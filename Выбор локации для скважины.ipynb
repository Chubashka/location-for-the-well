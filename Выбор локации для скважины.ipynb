{
 "cells": [
  {
   "cell_type": "markdown",
   "metadata": {},
   "source": [
    "# Выбор локации для скважины"
   ]
  },
  {
   "cell_type": "markdown",
   "metadata": {},
   "source": [
    "Допустим, вы работаете в добывающей компании «ГлавРосГосНефть». Нужно решить, где бурить новую скважину.\n",
    "\n",
    "Вам предоставлены пробы нефти в трёх регионах: в каждом 10 000 месторождений, где измерили качество нефти и объём её запасов. Постройте модель машинного обучения, которая поможет определить регион, где добыча принесёт наибольшую прибыль. Проанализируйте возможную прибыль и риски техникой *Bootstrap.*\n",
    "\n",
    "Шаги для выбора локации:\n",
    "\n",
    "- В избранном регионе ищут месторождения, для каждого определяют значения признаков;\n",
    "- Строят модель и оценивают объём запасов;\n",
    "- Выбирают месторождения с самым высокими оценками значений. Количество месторождений зависит от бюджета компании и стоимости разработки одной скважины;\n",
    "- Прибыль равна суммарной прибыли отобранных месторождений."
   ]
  },
  {
   "cell_type": "markdown",
   "metadata": {},
   "source": [
    "**Библиотеки**"
   ]
  },
  {
   "cell_type": "code",
   "execution_count": 1,
   "metadata": {},
   "outputs": [],
   "source": [
    "import pandas as pd\n",
    "import matplotlib.pyplot as plt\n",
    "import pylab\n",
    "import seaborn as sns\n",
    "import numpy as np\n",
    "from numpy.random import RandomState\n",
    "import scipy.stats as st\n",
    "\n",
    "import scipy.stats as stats\n",
    "\n",
    "from sklearn.preprocessing import StandardScaler\n",
    "\n",
    "from sklearn.model_selection import train_test_split\n",
    "from sklearn.model_selection import RandomizedSearchCV\n",
    "\n",
    "from sklearn.linear_model import LinearRegression\n",
    "\n",
    "from sklearn.metrics import mean_squared_error\n",
    "\n",
    "import warnings\n",
    "\n",
    "warnings.filterwarnings(\"ignore\")"
   ]
  },
  {
   "cell_type": "markdown",
   "metadata": {},
   "source": [
    "**Методы**"
   ]
  },
  {
   "cell_type": "code",
   "execution_count": 2,
   "metadata": {},
   "outputs": [],
   "source": [
    "# проверка пропусков и дубликатов\n",
    "def check_nan_duplicates(df):\n",
    "    print((df.isna().sum() / len(df)) * 100, '\\n')\n",
    "    print('---------------- \\n')\n",
    "    print('Проверка на явные дубликаты: ')\n",
    "    print(f'Кол-во явных дубликатов: {df.duplicated().sum()} \\n')\n",
    "    print('---------------- \\n')\n",
    "    print('Проверка на не явные дубликаты: ')\n",
    "    cols = df.select_dtypes(include='object').columns.to_list()\n",
    "    cols = cols.remove('id')\n",
    "    if cols == None:\n",
    "        print('Категориальных переменных нет, кроме id')\n",
    "    else:\n",
    "        for i in cols:\n",
    "            print(i, df[i].unique(), '\\n')\n",
    "    print('---------------- \\n')\n",
    "    df.info()\n",
    "    \n",
    "# построение графиков\n",
    "def plot_(df):\n",
    "    num_cols = df.select_dtypes(exclude='object').columns.to_list()\n",
    "    \n",
    "    fig, ax = plt.subplots(nrows=len(num_cols), ncols=1)\n",
    "    plt.subplots_adjust(hspace=0.8)\n",
    "    k = 0\n",
    "    for i in num_cols:\n",
    "                df.plot(y=i, \n",
    "                        kind='hist', \n",
    "                        grid=True, \n",
    "                        figsize=(10,15),  \n",
    "                        title=i, \n",
    "                        ax=ax[k],  \n",
    "                       )\n",
    "                ax[k].set_xlabel(i)\n",
    "                ax[k].set_ylabel('Частота')\n",
    "                k += 1\n",
    "\n",
    "    fig, ax = plt.subplots(nrows=len(num_cols), ncols=1, figsize=(10,30))\n",
    "    plt.subplots_adjust(hspace=0.8)\n",
    "    k = 0\n",
    "    for i in num_cols:\n",
    "            ax[k].set_title(i)\n",
    "            ax[k].boxplot(df[i])\n",
    "            plt.xlabel('')\n",
    "            k+=1\n",
    "    None\n",
    "\n",
    "#Масштабирование данных\n",
    "def data_scaling(X_train, X_test):\n",
    "    scaler = StandardScaler()\n",
    "    \n",
    "    X_train = scaler.fit_transform(X_train)\n",
    "    X_test = scaler.transform(X_test)\n",
    "    return X_train, X_test\n",
    "\n",
    "# прогноз объем скважины\n",
    "def predict_inventory_volume(X, y):\n",
    "    RANDOM_STATE = 42\n",
    "    TEST_SIZE = 0.25\n",
    "    \n",
    "    X_train, X_test, y_train, y_test = train_test_split(X, y, random_state=RANDOM_STATE, test_size=TEST_SIZE)\n",
    "    \n",
    "    X_train, X_test = data_scaling(X_train, X_test)\n",
    "    \n",
    "    model = LinearRegression()\n",
    "    \n",
    "    model.fit(X_train, y_train)\n",
    "    \n",
    "    pred = model.predict(X_test)\n",
    "\n",
    "    print(f'RMSE на тестовой выборке {round(np.sqrt(mean_squared_error(pred, y_test)), 2)}')\n",
    "    return pred, y_test\n",
    "\n",
    "# Расчёт прибыли по выбранным скважинам\n",
    "def profit_calculation(y_pred, y_test, best_points, revenue_unit_barrel, budget):\n",
    "    y_pred_sorted = y_pred.sort_values(ascending=False)[:best_points]\n",
    "    result = y_test[y_pred_sorted.index]\n",
    "    return result.sum() * revenue_unit_barrel - budget\n",
    "    "
   ]
  },
  {
   "cell_type": "markdown",
   "metadata": {},
   "source": [
    "## Загрузка и подготовка данных"
   ]
  },
  {
   "cell_type": "markdown",
   "metadata": {},
   "source": [
    "### Загрузка данных "
   ]
  },
  {
   "cell_type": "markdown",
   "metadata": {},
   "source": [
    "***Геологоразведка 1-го региона***"
   ]
  },
  {
   "cell_type": "code",
   "execution_count": 3,
   "metadata": {},
   "outputs": [
    {
     "name": "stdout",
     "output_type": "stream",
     "text": [
      "<class 'pandas.core.frame.DataFrame'>\n",
      "RangeIndex: 100000 entries, 0 to 99999\n",
      "Data columns (total 5 columns):\n",
      " #   Column   Non-Null Count   Dtype  \n",
      "---  ------   --------------   -----  \n",
      " 0   id       100000 non-null  object \n",
      " 1   f0       100000 non-null  float64\n",
      " 2   f1       100000 non-null  float64\n",
      " 3   f2       100000 non-null  float64\n",
      " 4   product  100000 non-null  float64\n",
      "dtypes: float64(4), object(1)\n",
      "memory usage: 3.8+ MB\n",
      "None\n"
     ]
    },
    {
     "data": {
      "text/html": [
       "<div>\n",
       "<style scoped>\n",
       "    .dataframe tbody tr th:only-of-type {\n",
       "        vertical-align: middle;\n",
       "    }\n",
       "\n",
       "    .dataframe tbody tr th {\n",
       "        vertical-align: top;\n",
       "    }\n",
       "\n",
       "    .dataframe thead th {\n",
       "        text-align: right;\n",
       "    }\n",
       "</style>\n",
       "<table border=\"1\" class=\"dataframe\">\n",
       "  <thead>\n",
       "    <tr style=\"text-align: right;\">\n",
       "      <th></th>\n",
       "      <th>id</th>\n",
       "      <th>f0</th>\n",
       "      <th>f1</th>\n",
       "      <th>f2</th>\n",
       "      <th>product</th>\n",
       "    </tr>\n",
       "  </thead>\n",
       "  <tbody>\n",
       "    <tr>\n",
       "      <th>0</th>\n",
       "      <td>txEyH</td>\n",
       "      <td>0.705745</td>\n",
       "      <td>-0.497823</td>\n",
       "      <td>1.221170</td>\n",
       "      <td>105.280062</td>\n",
       "    </tr>\n",
       "    <tr>\n",
       "      <th>1</th>\n",
       "      <td>2acmU</td>\n",
       "      <td>1.334711</td>\n",
       "      <td>-0.340164</td>\n",
       "      <td>4.365080</td>\n",
       "      <td>73.037750</td>\n",
       "    </tr>\n",
       "    <tr>\n",
       "      <th>2</th>\n",
       "      <td>409Wp</td>\n",
       "      <td>1.022732</td>\n",
       "      <td>0.151990</td>\n",
       "      <td>1.419926</td>\n",
       "      <td>85.265647</td>\n",
       "    </tr>\n",
       "    <tr>\n",
       "      <th>3</th>\n",
       "      <td>iJLyR</td>\n",
       "      <td>-0.032172</td>\n",
       "      <td>0.139033</td>\n",
       "      <td>2.978566</td>\n",
       "      <td>168.620776</td>\n",
       "    </tr>\n",
       "    <tr>\n",
       "      <th>4</th>\n",
       "      <td>Xdl7t</td>\n",
       "      <td>1.988431</td>\n",
       "      <td>0.155413</td>\n",
       "      <td>4.751769</td>\n",
       "      <td>154.036647</td>\n",
       "    </tr>\n",
       "  </tbody>\n",
       "</table>\n",
       "</div>"
      ],
      "text/plain": [
       "      id        f0        f1        f2     product\n",
       "0  txEyH  0.705745 -0.497823  1.221170  105.280062\n",
       "1  2acmU  1.334711 -0.340164  4.365080   73.037750\n",
       "2  409Wp  1.022732  0.151990  1.419926   85.265647\n",
       "3  iJLyR -0.032172  0.139033  2.978566  168.620776\n",
       "4  Xdl7t  1.988431  0.155413  4.751769  154.036647"
      ]
     },
     "execution_count": 3,
     "metadata": {},
     "output_type": "execute_result"
    }
   ],
   "source": [
    "geo_data_0 = pd.read_csv('/datasets/geo_data_0.csv')\n",
    "print(geo_data_0.info())\n",
    "geo_data_0.head()"
   ]
  },
  {
   "cell_type": "markdown",
   "metadata": {},
   "source": [
    "#### Вывод\n",
    "\n",
    "1) Название столбцов имеют одинаковый стиль \n",
    "\n",
    "2) В данном DataFrame отсутвуют пропуски\n",
    "\n",
    "3) В признаках не нужно изменять тип данных"
   ]
  },
  {
   "cell_type": "markdown",
   "metadata": {},
   "source": [
    "***Геологоразведка 2-го региона***"
   ]
  },
  {
   "cell_type": "code",
   "execution_count": 4,
   "metadata": {},
   "outputs": [
    {
     "name": "stdout",
     "output_type": "stream",
     "text": [
      "<class 'pandas.core.frame.DataFrame'>\n",
      "RangeIndex: 100000 entries, 0 to 99999\n",
      "Data columns (total 5 columns):\n",
      " #   Column   Non-Null Count   Dtype  \n",
      "---  ------   --------------   -----  \n",
      " 0   id       100000 non-null  object \n",
      " 1   f0       100000 non-null  float64\n",
      " 2   f1       100000 non-null  float64\n",
      " 3   f2       100000 non-null  float64\n",
      " 4   product  100000 non-null  float64\n",
      "dtypes: float64(4), object(1)\n",
      "memory usage: 3.8+ MB\n",
      "None\n"
     ]
    },
    {
     "data": {
      "text/html": [
       "<div>\n",
       "<style scoped>\n",
       "    .dataframe tbody tr th:only-of-type {\n",
       "        vertical-align: middle;\n",
       "    }\n",
       "\n",
       "    .dataframe tbody tr th {\n",
       "        vertical-align: top;\n",
       "    }\n",
       "\n",
       "    .dataframe thead th {\n",
       "        text-align: right;\n",
       "    }\n",
       "</style>\n",
       "<table border=\"1\" class=\"dataframe\">\n",
       "  <thead>\n",
       "    <tr style=\"text-align: right;\">\n",
       "      <th></th>\n",
       "      <th>id</th>\n",
       "      <th>f0</th>\n",
       "      <th>f1</th>\n",
       "      <th>f2</th>\n",
       "      <th>product</th>\n",
       "    </tr>\n",
       "  </thead>\n",
       "  <tbody>\n",
       "    <tr>\n",
       "      <th>0</th>\n",
       "      <td>kBEdx</td>\n",
       "      <td>-15.001348</td>\n",
       "      <td>-8.276000</td>\n",
       "      <td>-0.005876</td>\n",
       "      <td>3.179103</td>\n",
       "    </tr>\n",
       "    <tr>\n",
       "      <th>1</th>\n",
       "      <td>62mP7</td>\n",
       "      <td>14.272088</td>\n",
       "      <td>-3.475083</td>\n",
       "      <td>0.999183</td>\n",
       "      <td>26.953261</td>\n",
       "    </tr>\n",
       "    <tr>\n",
       "      <th>2</th>\n",
       "      <td>vyE1P</td>\n",
       "      <td>6.263187</td>\n",
       "      <td>-5.948386</td>\n",
       "      <td>5.001160</td>\n",
       "      <td>134.766305</td>\n",
       "    </tr>\n",
       "    <tr>\n",
       "      <th>3</th>\n",
       "      <td>KcrkZ</td>\n",
       "      <td>-13.081196</td>\n",
       "      <td>-11.506057</td>\n",
       "      <td>4.999415</td>\n",
       "      <td>137.945408</td>\n",
       "    </tr>\n",
       "    <tr>\n",
       "      <th>4</th>\n",
       "      <td>AHL4O</td>\n",
       "      <td>12.702195</td>\n",
       "      <td>-8.147433</td>\n",
       "      <td>5.004363</td>\n",
       "      <td>134.766305</td>\n",
       "    </tr>\n",
       "  </tbody>\n",
       "</table>\n",
       "</div>"
      ],
      "text/plain": [
       "      id         f0         f1        f2     product\n",
       "0  kBEdx -15.001348  -8.276000 -0.005876    3.179103\n",
       "1  62mP7  14.272088  -3.475083  0.999183   26.953261\n",
       "2  vyE1P   6.263187  -5.948386  5.001160  134.766305\n",
       "3  KcrkZ -13.081196 -11.506057  4.999415  137.945408\n",
       "4  AHL4O  12.702195  -8.147433  5.004363  134.766305"
      ]
     },
     "execution_count": 4,
     "metadata": {},
     "output_type": "execute_result"
    }
   ],
   "source": [
    "geo_data_1 = pd.read_csv('/datasets/geo_data_1.csv')\n",
    "print(geo_data_1.info())\n",
    "geo_data_1.head()"
   ]
  },
  {
   "cell_type": "markdown",
   "metadata": {},
   "source": [
    "#### Вывод\n",
    "\n",
    "1) Название столбцов имеют одинаковый стиль \n",
    "\n",
    "2) В данном DataFrame отсутвуют пропуски\n",
    "\n",
    "3) В признаках не нужно изменять тип данных"
   ]
  },
  {
   "cell_type": "markdown",
   "metadata": {},
   "source": [
    "***Геологоразведка 3-го региона***"
   ]
  },
  {
   "cell_type": "code",
   "execution_count": 5,
   "metadata": {},
   "outputs": [
    {
     "name": "stdout",
     "output_type": "stream",
     "text": [
      "<class 'pandas.core.frame.DataFrame'>\n",
      "RangeIndex: 100000 entries, 0 to 99999\n",
      "Data columns (total 5 columns):\n",
      " #   Column   Non-Null Count   Dtype  \n",
      "---  ------   --------------   -----  \n",
      " 0   id       100000 non-null  object \n",
      " 1   f0       100000 non-null  float64\n",
      " 2   f1       100000 non-null  float64\n",
      " 3   f2       100000 non-null  float64\n",
      " 4   product  100000 non-null  float64\n",
      "dtypes: float64(4), object(1)\n",
      "memory usage: 3.8+ MB\n",
      "None\n"
     ]
    },
    {
     "data": {
      "text/html": [
       "<div>\n",
       "<style scoped>\n",
       "    .dataframe tbody tr th:only-of-type {\n",
       "        vertical-align: middle;\n",
       "    }\n",
       "\n",
       "    .dataframe tbody tr th {\n",
       "        vertical-align: top;\n",
       "    }\n",
       "\n",
       "    .dataframe thead th {\n",
       "        text-align: right;\n",
       "    }\n",
       "</style>\n",
       "<table border=\"1\" class=\"dataframe\">\n",
       "  <thead>\n",
       "    <tr style=\"text-align: right;\">\n",
       "      <th></th>\n",
       "      <th>id</th>\n",
       "      <th>f0</th>\n",
       "      <th>f1</th>\n",
       "      <th>f2</th>\n",
       "      <th>product</th>\n",
       "    </tr>\n",
       "  </thead>\n",
       "  <tbody>\n",
       "    <tr>\n",
       "      <th>0</th>\n",
       "      <td>fwXo0</td>\n",
       "      <td>-1.146987</td>\n",
       "      <td>0.963328</td>\n",
       "      <td>-0.828965</td>\n",
       "      <td>27.758673</td>\n",
       "    </tr>\n",
       "    <tr>\n",
       "      <th>1</th>\n",
       "      <td>WJtFt</td>\n",
       "      <td>0.262778</td>\n",
       "      <td>0.269839</td>\n",
       "      <td>-2.530187</td>\n",
       "      <td>56.069697</td>\n",
       "    </tr>\n",
       "    <tr>\n",
       "      <th>2</th>\n",
       "      <td>ovLUW</td>\n",
       "      <td>0.194587</td>\n",
       "      <td>0.289035</td>\n",
       "      <td>-5.586433</td>\n",
       "      <td>62.871910</td>\n",
       "    </tr>\n",
       "    <tr>\n",
       "      <th>3</th>\n",
       "      <td>q6cA6</td>\n",
       "      <td>2.236060</td>\n",
       "      <td>-0.553760</td>\n",
       "      <td>0.930038</td>\n",
       "      <td>114.572842</td>\n",
       "    </tr>\n",
       "    <tr>\n",
       "      <th>4</th>\n",
       "      <td>WPMUX</td>\n",
       "      <td>-0.515993</td>\n",
       "      <td>1.716266</td>\n",
       "      <td>5.899011</td>\n",
       "      <td>149.600746</td>\n",
       "    </tr>\n",
       "  </tbody>\n",
       "</table>\n",
       "</div>"
      ],
      "text/plain": [
       "      id        f0        f1        f2     product\n",
       "0  fwXo0 -1.146987  0.963328 -0.828965   27.758673\n",
       "1  WJtFt  0.262778  0.269839 -2.530187   56.069697\n",
       "2  ovLUW  0.194587  0.289035 -5.586433   62.871910\n",
       "3  q6cA6  2.236060 -0.553760  0.930038  114.572842\n",
       "4  WPMUX -0.515993  1.716266  5.899011  149.600746"
      ]
     },
     "execution_count": 5,
     "metadata": {},
     "output_type": "execute_result"
    }
   ],
   "source": [
    "geo_data_2 = pd.read_csv('/datasets/geo_data_2.csv')\n",
    "print(geo_data_2.info())\n",
    "geo_data_2.head()"
   ]
  },
  {
   "cell_type": "markdown",
   "metadata": {},
   "source": [
    "#### Вывод\n",
    "\n",
    "1) Название столбцов имеют одинаковый стиль \n",
    "\n",
    "2) В данном DataFrame отсутвуют пропуски\n",
    "\n",
    "3) В признаках не нужно изменять тип данных"
   ]
  },
  {
   "cell_type": "markdown",
   "metadata": {},
   "source": [
    "### Предобработка данных"
   ]
  },
  {
   "cell_type": "markdown",
   "metadata": {},
   "source": [
    "***Геологоразведка 1-го региона***"
   ]
  },
  {
   "cell_type": "code",
   "execution_count": 6,
   "metadata": {},
   "outputs": [
    {
     "name": "stdout",
     "output_type": "stream",
     "text": [
      "id         0.0\n",
      "f0         0.0\n",
      "f1         0.0\n",
      "f2         0.0\n",
      "product    0.0\n",
      "dtype: float64 \n",
      "\n",
      "---------------- \n",
      "\n",
      "Проверка на явные дубликаты: \n",
      "Кол-во явных дубликатов: 0 \n",
      "\n",
      "---------------- \n",
      "\n",
      "Проверка на не явные дубликаты: \n",
      "Категориальных переменных нет, кроме id\n",
      "---------------- \n",
      "\n",
      "<class 'pandas.core.frame.DataFrame'>\n",
      "RangeIndex: 100000 entries, 0 to 99999\n",
      "Data columns (total 5 columns):\n",
      " #   Column   Non-Null Count   Dtype  \n",
      "---  ------   --------------   -----  \n",
      " 0   id       100000 non-null  object \n",
      " 1   f0       100000 non-null  float64\n",
      " 2   f1       100000 non-null  float64\n",
      " 3   f2       100000 non-null  float64\n",
      " 4   product  100000 non-null  float64\n",
      "dtypes: float64(4), object(1)\n",
      "memory usage: 3.8+ MB\n"
     ]
    }
   ],
   "source": [
    "check_nan_duplicates(geo_data_0)"
   ]
  },
  {
   "cell_type": "markdown",
   "metadata": {},
   "source": [
    "#### Вывод\n",
    "\n",
    "1) Явных дубликатов в данном DataFrame нет\n",
    "\n",
    "2) Не явных дубликатов в данном DataFrame нет\n",
    "\n",
    "3) Пропусков в данном DataFrame нет"
   ]
  },
  {
   "cell_type": "markdown",
   "metadata": {},
   "source": [
    "***Геологоразведка 2-го региона***"
   ]
  },
  {
   "cell_type": "code",
   "execution_count": 7,
   "metadata": {},
   "outputs": [
    {
     "name": "stdout",
     "output_type": "stream",
     "text": [
      "id         0.0\n",
      "f0         0.0\n",
      "f1         0.0\n",
      "f2         0.0\n",
      "product    0.0\n",
      "dtype: float64 \n",
      "\n",
      "---------------- \n",
      "\n",
      "Проверка на явные дубликаты: \n",
      "Кол-во явных дубликатов: 0 \n",
      "\n",
      "---------------- \n",
      "\n",
      "Проверка на не явные дубликаты: \n",
      "Категориальных переменных нет, кроме id\n",
      "---------------- \n",
      "\n",
      "<class 'pandas.core.frame.DataFrame'>\n",
      "RangeIndex: 100000 entries, 0 to 99999\n",
      "Data columns (total 5 columns):\n",
      " #   Column   Non-Null Count   Dtype  \n",
      "---  ------   --------------   -----  \n",
      " 0   id       100000 non-null  object \n",
      " 1   f0       100000 non-null  float64\n",
      " 2   f1       100000 non-null  float64\n",
      " 3   f2       100000 non-null  float64\n",
      " 4   product  100000 non-null  float64\n",
      "dtypes: float64(4), object(1)\n",
      "memory usage: 3.8+ MB\n"
     ]
    }
   ],
   "source": [
    "check_nan_duplicates(geo_data_1)"
   ]
  },
  {
   "cell_type": "markdown",
   "metadata": {},
   "source": [
    "#### Вывод\n",
    "\n",
    "1) Явных дубликатов в данном DataFrame нет\n",
    "\n",
    "2) Не явных дубликатов в данном DataFrame нет\n",
    "\n",
    "3) Пропусков в данном DataFrame нет"
   ]
  },
  {
   "cell_type": "markdown",
   "metadata": {},
   "source": [
    "***Геологоразведка 3-го региона***"
   ]
  },
  {
   "cell_type": "code",
   "execution_count": 8,
   "metadata": {},
   "outputs": [
    {
     "name": "stdout",
     "output_type": "stream",
     "text": [
      "id         0.0\n",
      "f0         0.0\n",
      "f1         0.0\n",
      "f2         0.0\n",
      "product    0.0\n",
      "dtype: float64 \n",
      "\n",
      "---------------- \n",
      "\n",
      "Проверка на явные дубликаты: \n",
      "Кол-во явных дубликатов: 0 \n",
      "\n",
      "---------------- \n",
      "\n",
      "Проверка на не явные дубликаты: \n",
      "Категориальных переменных нет, кроме id\n",
      "---------------- \n",
      "\n",
      "<class 'pandas.core.frame.DataFrame'>\n",
      "RangeIndex: 100000 entries, 0 to 99999\n",
      "Data columns (total 5 columns):\n",
      " #   Column   Non-Null Count   Dtype  \n",
      "---  ------   --------------   -----  \n",
      " 0   id       100000 non-null  object \n",
      " 1   f0       100000 non-null  float64\n",
      " 2   f1       100000 non-null  float64\n",
      " 3   f2       100000 non-null  float64\n",
      " 4   product  100000 non-null  float64\n",
      "dtypes: float64(4), object(1)\n",
      "memory usage: 3.8+ MB\n"
     ]
    }
   ],
   "source": [
    "check_nan_duplicates(geo_data_2)"
   ]
  },
  {
   "cell_type": "markdown",
   "metadata": {},
   "source": [
    "#### Вывод\n",
    "\n",
    "1) Явных дубликатов в данном DataFrame нет\n",
    "\n",
    "2) Не явных дубликатов в данном DataFrame нет\n",
    "\n",
    "3) Пропусков в данном DataFrame нет"
   ]
  },
  {
   "cell_type": "markdown",
   "metadata": {},
   "source": [
    "### Исследовательский анализ "
   ]
  },
  {
   "cell_type": "markdown",
   "metadata": {},
   "source": [
    "***Геологоразведка 1-го региона***"
   ]
  },
  {
   "cell_type": "code",
   "execution_count": 9,
   "metadata": {},
   "outputs": [
    {
     "data": {
      "image/png": "[encoded data removed]",
      "text/plain": [
       "<Figure size 720x1080 with 4 Axes>"
      ]
     },
     "metadata": {
      "needs_background": "light"
     },
     "output_type": "display_data"
    },
    {
     "data": {
      "image/png": "[encoded data removed]",
      "text/plain": [
       "<Figure size 720x2160 with 4 Axes>"
      ]
     },
     "metadata": {
      "needs_background": "light"
     },
     "output_type": "display_data"
    }
   ],
   "source": [
    "plot_(geo_data_0)"
   ]
  },
  {
   "cell_type": "markdown",
   "metadata": {},
   "source": [
    "**Обработка выбросов**"
   ]
  },
  {
   "cell_type": "markdown",
   "metadata": {},
   "source": [
    "#### Вывод\n",
    "\n",
    "Признак *f2* имеет выбросы, но мы их оставим для разнообразия признака"
   ]
  },
  {
   "cell_type": "markdown",
   "metadata": {},
   "source": [
    "**Проверить количественные признаки на нормальное распределние**"
   ]
  },
  {
   "cell_type": "code",
   "execution_count": 10,
   "metadata": {},
   "outputs": [
    {
     "data": {
      "image/png": "[encoded data removed]",
      "text/plain": [
       "<Figure size 432x288 with 1 Axes>"
      ]
     },
     "metadata": {
      "needs_background": "light"
     },
     "output_type": "display_data"
    },
    {
     "data": {
      "image/png": "[encoded data removed]",
      "text/plain": [
       "<Figure size 432x288 with 1 Axes>"
      ]
     },
     "metadata": {
      "needs_background": "light"
     },
     "output_type": "display_data"
    },
    {
     "data": {
      "image/png": "[encoded data removed]",
      "text/plain": [
       "<Figure size 432x288 with 1 Axes>"
      ]
     },
     "metadata": {
      "needs_background": "light"
     },
     "output_type": "display_data"
    },
    {
     "data": {
      "image/png": "[encoded data removed]",
      "text/plain": [
       "<Figure size 432x288 with 1 Axes>"
      ]
     },
     "metadata": {
      "needs_background": "light"
     },
     "output_type": "display_data"
    }
   ],
   "source": [
    "num_cols = geo_data_0.select_dtypes(exclude='object').columns.to_list()\n",
    "for i in num_cols:\n",
    "        stats.probplot(geo_data_0[i], dist='norm', plot=pylab)\n",
    "        plt.title(i)\n",
    "        pylab.show()"
   ]
  },
  {
   "cell_type": "markdown",
   "metadata": {},
   "source": [
    "#### Вывод\n",
    "\n",
    "Все признаки имеют нормальное распределение"
   ]
  },
  {
   "cell_type": "markdown",
   "metadata": {},
   "source": [
    "***Геологоразведка 2-го региона***"
   ]
  },
  {
   "cell_type": "code",
   "execution_count": 11,
   "metadata": {},
   "outputs": [
    {
     "data": {
      "image/png": "[encoded data removed]",
      "text/plain": [
       "<Figure size 720x1080 with 4 Axes>"
      ]
     },
     "metadata": {
      "needs_background": "light"
     },
     "output_type": "display_data"
    },
    {
     "data": {
      "image/png": "[encoded data removed]",
      "text/plain": [
       "<Figure size 720x2160 with 4 Axes>"
      ]
     },
     "metadata": {
      "needs_background": "light"
     },
     "output_type": "display_data"
    }
   ],
   "source": [
    "plot_(geo_data_1)"
   ]
  },
  {
   "cell_type": "markdown",
   "metadata": {},
   "source": [
    "**Обработка выбросов**"
   ]
  },
  {
   "cell_type": "markdown",
   "metadata": {},
   "source": [
    "#### Вывод\n",
    "\n",
    "Признак *f0* имеет выбросы, но мы их оставим для разнообразия признака\n",
    "\n",
    "Признак *f1* имеет выбросы, но мы их оставим для разнообразия признака"
   ]
  },
  {
   "cell_type": "markdown",
   "metadata": {},
   "source": [
    "**Проверить количественные признаки на нормальное распределние**"
   ]
  },
  {
   "cell_type": "code",
   "execution_count": 12,
   "metadata": {},
   "outputs": [
    {
     "data": {
      "image/png": "[encoded data removed]",
      "text/plain": [
       "<Figure size 432x288 with 1 Axes>"
      ]
     },
     "metadata": {
      "needs_background": "light"
     },
     "output_type": "display_data"
    },
    {
     "data": {
      "image/png": "[encoded data removed]",
      "text/plain": [
       "<Figure size 432x288 with 1 Axes>"
      ]
     },
     "metadata": {
      "needs_background": "light"
     },
     "output_type": "display_data"
    },
    {
     "data": {
      "image/png": "[encoded data removed]",
      "text/plain": [
       "<Figure size 432x288 with 1 Axes>"
      ]
     },
     "metadata": {
      "needs_background": "light"
     },
     "output_type": "display_data"
    },
    {
     "data": {
      "image/png": "[encoded data removed]",
      "text/plain": [
       "<Figure size 432x288 with 1 Axes>"
      ]
     },
     "metadata": {
      "needs_background": "light"
     },
     "output_type": "display_data"
    }
   ],
   "source": [
    "num_cols = geo_data_1.select_dtypes(exclude='object').columns.to_list()\n",
    "for i in num_cols:\n",
    "        stats.probplot(geo_data_1[i], dist='norm', plot=pylab)\n",
    "        plt.title(i)\n",
    "        pylab.show()"
   ]
  },
  {
   "cell_type": "markdown",
   "metadata": {},
   "source": [
    "#### Вывод\n",
    "\n",
    "Все признаки имеют нормальное распределение"
   ]
  },
  {
   "cell_type": "markdown",
   "metadata": {},
   "source": [
    "***Геологоразведка 3-го региона***"
   ]
  },
  {
   "cell_type": "code",
   "execution_count": 13,
   "metadata": {},
   "outputs": [
    {
     "data": {
      "image/png": "[encoded data removed]",
      "text/plain": [
       "<Figure size 720x1080 with 4 Axes>"
      ]
     },
     "metadata": {
      "needs_background": "light"
     },
     "output_type": "display_data"
    },
    {
     "data": {
      "image/png": "[encoded data removed]",
      "text/plain": [
       "<Figure size 720x2160 with 4 Axes>"
      ]
     },
     "metadata": {
      "needs_background": "light"
     },
     "output_type": "display_data"
    }
   ],
   "source": [
    "plot_(geo_data_2)"
   ]
  },
  {
   "cell_type": "markdown",
   "metadata": {},
   "source": [
    "**Обработка выбросов**"
   ]
  },
  {
   "cell_type": "markdown",
   "metadata": {},
   "source": [
    "#### Вывод\n",
    "\n",
    "Признак *f0* имеет выбросы, но мы их оставим для разнообразия признака\n",
    "\n",
    "Признак *f1* имеет выбросы, но мы их оставим для разнообразия признака\n",
    "\n",
    "Признак *f2* имеет выбросы, но мы их оставим для разнообразия признака"
   ]
  },
  {
   "cell_type": "markdown",
   "metadata": {},
   "source": [
    "**Проверить количественные признаки на нормальное распределние**"
   ]
  },
  {
   "cell_type": "code",
   "execution_count": 14,
   "metadata": {},
   "outputs": [
    {
     "data": {
      "image/png": "[encoded data removed]",
      "text/plain": [
       "<Figure size 432x288 with 1 Axes>"
      ]
     },
     "metadata": {
      "needs_background": "light"
     },
     "output_type": "display_data"
    },
    {
     "data": {
      "image/png": "[encoded data removed]",
      "text/plain": [
       "<Figure size 432x288 with 1 Axes>"
      ]
     },
     "metadata": {
      "needs_background": "light"
     },
     "output_type": "display_data"
    },
    {
     "data": {
      "image/png": "[encoded data removed]",
      "text/plain": [
       "<Figure size 432x288 with 1 Axes>"
      ]
     },
     "metadata": {
      "needs_background": "light"
     },
     "output_type": "display_data"
    },
    {
     "data": {
      "image/png": "[encoded data removed]",
      "text/plain": [
       "<Figure size 432x288 with 1 Axes>"
      ]
     },
     "metadata": {
      "needs_background": "light"
     },
     "output_type": "display_data"
    }
   ],
   "source": [
    "num_cols = geo_data_2.select_dtypes(exclude='object').columns.to_list()\n",
    "for i in num_cols:\n",
    "        stats.probplot(geo_data_2[i], dist='norm', plot=pylab)\n",
    "        plt.title(i)\n",
    "        pylab.show()"
   ]
  },
  {
   "cell_type": "markdown",
   "metadata": {},
   "source": [
    "#### Вывод\n",
    "\n",
    "Все признаки имеют нормальное распределение"
   ]
  },
  {
   "cell_type": "markdown",
   "metadata": {},
   "source": [
    "### Корреляционный анализ"
   ]
  },
  {
   "cell_type": "markdown",
   "metadata": {},
   "source": [
    "***Геологоразведка 1-го региона***"
   ]
  },
  {
   "cell_type": "code",
   "execution_count": 15,
   "metadata": {},
   "outputs": [
    {
     "data": {
      "image/png": "[encoded data removed]",
      "text/plain": [
       "<Figure size 1080x1080 with 2 Axes>"
      ]
     },
     "metadata": {
      "needs_background": "light"
     },
     "output_type": "display_data"
    }
   ],
   "source": [
    "num_cols = geo_data_0.select_dtypes(exclude='object').columns.to_list()\n",
    "\n",
    "corr = geo_data_0[num_cols].corr(method = 'spearman')\n",
    "fig, ax = plt.subplots(figsize=(15, 15))\n",
    "sns.heatmap(corr, annot = True)\n",
    "None"
   ]
  },
  {
   "cell_type": "markdown",
   "metadata": {},
   "source": [
    "#### Вывод\n",
    "\n",
    "1) *f0* имеет слабую линейную зависимость с таргетом\n",
    "\n",
    "2) *f1* не имеет линейную зависимость с таргетом \n",
    "\n",
    "3) *f2* имеет умеренную линейную зависимость с таргетом\n",
    "\n",
    "4) Мультиколлинеарность отсутвует "
   ]
  },
  {
   "cell_type": "markdown",
   "metadata": {},
   "source": [
    "***Геологоразведка 2-го региона***"
   ]
  },
  {
   "cell_type": "code",
   "execution_count": 16,
   "metadata": {},
   "outputs": [
    {
     "data": {
      "image/png": "[encoded data removed]",
      "text/plain": [
       "<Figure size 1080x1080 with 2 Axes>"
      ]
     },
     "metadata": {
      "needs_background": "light"
     },
     "output_type": "display_data"
    }
   ],
   "source": [
    "num_cols = geo_data_1.select_dtypes(exclude='object').columns.to_list()\n",
    "\n",
    "corr = geo_data_1[num_cols].corr(method = 'spearman')\n",
    "fig, ax = plt.subplots(figsize=(15, 15))\n",
    "sns.heatmap(corr, annot = True)\n",
    "None"
   ]
  },
  {
   "cell_type": "markdown",
   "metadata": {},
   "source": [
    "#### Вывод\n",
    "\n",
    "1) *f0* не имеет линейную зависимость с таргетом\n",
    "\n",
    "2) *f1* не имеет линейную зависимость с таргетом \n",
    "\n",
    "3) *f2* имеет весьма высокую линейную зависимость с таргетом\n",
    "\n",
    "4) Мультиколлинеарность отсутвует "
   ]
  },
  {
   "cell_type": "markdown",
   "metadata": {},
   "source": [
    "***Геологоразведка 3-го региона***"
   ]
  },
  {
   "cell_type": "code",
   "execution_count": 17,
   "metadata": {},
   "outputs": [
    {
     "data": {
      "image/png": "[encoded data removed]",
      "text/plain": [
       "<Figure size 1080x1080 with 2 Axes>"
      ]
     },
     "metadata": {
      "needs_background": "light"
     },
     "output_type": "display_data"
    }
   ],
   "source": [
    "num_cols = geo_data_2.select_dtypes(exclude='object').columns.to_list()\n",
    "\n",
    "corr = geo_data_2[num_cols].corr(method = 'spearman')\n",
    "fig, ax = plt.subplots(figsize=(15, 15))\n",
    "sns.heatmap(corr, annot = True)\n",
    "None"
   ]
  },
  {
   "cell_type": "markdown",
   "metadata": {},
   "source": [
    "#### Вывод\n",
    "\n",
    "1) *f0* не имеет линейную зависимость с таргетом\n",
    "\n",
    "2) *f1* не имеет линейную зависимость с таргетом \n",
    "\n",
    "3) *f2* имеет умеренную линейную зависимость с таргетом\n",
    "\n",
    "4) Мультиколлинеарность отсутвует "
   ]
  },
  {
   "cell_type": "markdown",
   "metadata": {},
   "source": [
    "## Обучение и проверка модели"
   ]
  },
  {
   "cell_type": "markdown",
   "metadata": {},
   "source": [
    "***Геологоразведка 1-го региона***"
   ]
  },
  {
   "cell_type": "code",
   "execution_count": 18,
   "metadata": {},
   "outputs": [
    {
     "name": "stdout",
     "output_type": "stream",
     "text": [
      "RMSE на тестовой выборке 37.76\n",
      "Средний запас предсказанного сырья 1-го региона: 92.4\n"
     ]
    }
   ],
   "source": [
    "y_pred_0 , y_true_0 = predict_inventory_volume(geo_data_0[['f0', 'f1', 'f2']], geo_data_0['product'])\n",
    "y_mean_0 = round(y_pred_0.mean(),2)\n",
    "print(f'Средний запас предсказанного сырья 1-го региона: {y_mean_0}')"
   ]
  },
  {
   "cell_type": "markdown",
   "metadata": {},
   "source": [
    "***Геологоразведка 2-го региона***"
   ]
  },
  {
   "cell_type": "code",
   "execution_count": 19,
   "metadata": {},
   "outputs": [
    {
     "name": "stdout",
     "output_type": "stream",
     "text": [
      "RMSE на тестовой выборке 0.89\n",
      "Средний запас предсказанного сырья 2-го региона: 68.71\n"
     ]
    }
   ],
   "source": [
    "y_pred_1 , y_true_1 = predict_inventory_volume(geo_data_1[['f0', 'f1', 'f2']], geo_data_1['product'])\n",
    "y_mean_1 = round(y_pred_1.mean(),2)\n",
    "print(f'Средний запас предсказанного сырья 2-го региона: {y_mean_1}')"
   ]
  },
  {
   "cell_type": "markdown",
   "metadata": {},
   "source": [
    "***Геологоразведка 3-го региона***"
   ]
  },
  {
   "cell_type": "code",
   "execution_count": 20,
   "metadata": {},
   "outputs": [
    {
     "name": "stdout",
     "output_type": "stream",
     "text": [
      "RMSE на тестовой выборке 40.15\n",
      "Средний запас предсказанного сырья 3-го региона: 94.77\n"
     ]
    }
   ],
   "source": [
    "y_pred_2 , y_true_2 = predict_inventory_volume(geo_data_2[['f0', 'f1', 'f2']], geo_data_2['product'])\n",
    "y_mean_2 = round(y_pred_2.mean(),2)\n",
    "print(f'Средний запас предсказанного сырья 3-го региона: {y_mean_2}')"
   ]
  },
  {
   "cell_type": "markdown",
   "metadata": {},
   "source": [
    "#### Вывод\n",
    "\n",
    "***Геологоразведка 1-го региона***\n",
    "\n",
    "1) Модель которая была обучена на данных 1-го региона показала метрику RMSE равную 37.76\n",
    "\n",
    "2) Средний запас предсказанного сырья 1-го региона равняется 92.4\n",
    "\n",
    "***Геологоразведка 2-го региона***\n",
    "\n",
    "1) Модель которая была обучена на данных 2-го региона показала метрику RMSE равную 0.89. Метрика показала такое маленькое значение, возможно, из-за высокой корелляции признака *f2* с таргетом\n",
    "\n",
    "2) Средний запас предсказанного сырья 2-го региона равняется 68.71. Он является самым наименьшим по сравнению с другими регионами\n",
    "\n",
    "***Геологоразведка 3-го региона***\n",
    "\n",
    "1) Модель которая была обучена на данных 3-го региона показала метрику RMSE равную 40.15\n",
    "\n",
    "2) Средний запас предсказанного сырья 3-го региона равняется 94.77"
   ]
  },
  {
   "cell_type": "markdown",
   "metadata": {},
   "source": [
    "## Подготовка к расчёту прибыли"
   ]
  },
  {
   "cell_type": "markdown",
   "metadata": {},
   "source": [
    "**Ключевые значения для расчётов:**"
   ]
  },
  {
   "cell_type": "code",
   "execution_count": 21,
   "metadata": {},
   "outputs": [],
   "source": [
    "number_points = 500\n",
    "best_points = 200\n",
    "budget = 10000000000\n",
    "revenue_unit_barrel = 450000\n",
    "volume = 1000"
   ]
  },
  {
   "cell_type": "code",
   "execution_count": 22,
   "metadata": {},
   "outputs": [
    {
     "name": "stdout",
     "output_type": "stream",
     "text": [
      "Достаточный объём сырья для безубыточной разработки новой скважины: 111.11\n"
     ]
    }
   ],
   "source": [
    "sufficient_volume_for_well_development = round((budget / revenue_unit_barrel / best_points),2)\n",
    "print(f'Достаточный объём сырья для безубыточной разработки новой скважины: {sufficient_volume_for_well_development}')"
   ]
  },
  {
   "cell_type": "code",
   "execution_count": 23,
   "metadata": {},
   "outputs": [
    {
     "data": {
      "image/png": "[encoded data removed]",
      "text/plain": [
       "<Figure size 720x432 with 1 Axes>"
      ]
     },
     "metadata": {
      "needs_background": "light"
     },
     "output_type": "display_data"
    }
   ],
   "source": [
    "region = ['1 регион', '2 регион', '3 регион']\n",
    "mean = [y_mean_0, y_mean_1, y_mean_2]\n",
    "const = [sufficient_volume_for_well_development, sufficient_volume_for_well_development, sufficient_volume_for_well_development]\n",
    "\n",
    "df = pd.DataFrame({'Средний запас сырья': mean, 'Достаточный объём сырья': const, 'Регион': region})\n",
    "df[['Регион', 'Средний запас сырья', 'Достаточный объём сырья']].plot(x='Регион', kind='bar', figsize=(10,6), ylabel='Кол-во сырья', title='Запас сырья')\n",
    "None"
   ]
  },
  {
   "cell_type": "markdown",
   "metadata": {},
   "source": [
    "#### Вывод\n",
    "\n",
    "1) Средний запас у всех регионов меньше чем объём сырья для безубыточной разработки новой скважины.\n",
    "\n",
    "2) Нужно из всех регионов выбрать 200 точек для скважин и вкладываться в их строительство  "
   ]
  },
  {
   "cell_type": "markdown",
   "metadata": {},
   "source": [
    "## Расчёт прибыли и рисков "
   ]
  },
  {
   "cell_type": "code",
   "execution_count": 24,
   "metadata": {},
   "outputs": [
    {
     "data": {
      "text/html": [
       "<div>\n",
       "<style scoped>\n",
       "    .dataframe tbody tr th:only-of-type {\n",
       "        vertical-align: middle;\n",
       "    }\n",
       "\n",
       "    .dataframe tbody tr th {\n",
       "        vertical-align: top;\n",
       "    }\n",
       "\n",
       "    .dataframe thead th {\n",
       "        text-align: right;\n",
       "    }\n",
       "</style>\n",
       "<table border=\"1\" class=\"dataframe\">\n",
       "  <thead>\n",
       "    <tr style=\"text-align: right;\">\n",
       "      <th></th>\n",
       "      <th>прибыль</th>\n",
       "    </tr>\n",
       "  </thead>\n",
       "  <tbody>\n",
       "    <tr>\n",
       "      <th>1 регион</th>\n",
       "      <td>3.359141e+09</td>\n",
       "    </tr>\n",
       "    <tr>\n",
       "      <th>2 регион</th>\n",
       "      <td>2.415087e+09</td>\n",
       "    </tr>\n",
       "    <tr>\n",
       "      <th>3 регион</th>\n",
       "      <td>2.598572e+09</td>\n",
       "    </tr>\n",
       "  </tbody>\n",
       "</table>\n",
       "</div>"
      ],
      "text/plain": [
       "               прибыль\n",
       "1 регион  3.359141e+09\n",
       "2 регион  2.415087e+09\n",
       "3 регион  2.598572e+09"
      ]
     },
     "execution_count": 24,
     "metadata": {},
     "output_type": "execute_result"
    }
   ],
   "source": [
    "y_pred = [y_pred_0, y_pred_1, y_pred_2]\n",
    "y_true = [y_true_0, y_true_1, y_true_2]\n",
    "for i in range (len(y_pred)):\n",
    "    y_pred[i] = pd.Series(y_pred[i])\n",
    "    y_true[i] = y_true[i].reset_index(drop=True)\n",
    "profit_best_200 = []\n",
    "\n",
    "for i in range(len(y_pred)):\n",
    "    profit_best_200.append(profit_calculation(y_pred[i], y_true[i], best_points, revenue_unit_barrel, budget))\n",
    "profit_best_200 = pd.Series(profit_best_200, name='прибыль')\n",
    "profit_best_200.index = region\n",
    "pd.DataFrame(profit_best_200)"
   ]
  },
  {
   "cell_type": "markdown",
   "metadata": {},
   "source": [
    "#### Вывод\n",
    "\n",
    "1) В первом регионе 200 лучших скважин больше всего прибыли принесет: 3359141000 руб\n",
    "\n",
    "2) Во втором и третьем регионе 200 лучших скважин меньше принесут прибыли: 2415087000 руб, 2598572000 руб"
   ]
  },
  {
   "cell_type": "code",
   "execution_count": 25,
   "metadata": {},
   "outputs": [
    {
     "data": {
      "text/html": [
       "<div>\n",
       "<style scoped>\n",
       "    .dataframe tbody tr th:only-of-type {\n",
       "        vertical-align: middle;\n",
       "    }\n",
       "\n",
       "    .dataframe tbody tr th {\n",
       "        vertical-align: top;\n",
       "    }\n",
       "\n",
       "    .dataframe thead th {\n",
       "        text-align: right;\n",
       "    }\n",
       "</style>\n",
       "<table border=\"1\" class=\"dataframe\">\n",
       "  <thead>\n",
       "    <tr style=\"text-align: right;\">\n",
       "      <th></th>\n",
       "      <th>Регион</th>\n",
       "      <th>Средняя прибыль</th>\n",
       "      <th>95%-й доверительный интервал</th>\n",
       "      <th>Риск убытков</th>\n",
       "    </tr>\n",
       "  </thead>\n",
       "  <tbody>\n",
       "    <tr>\n",
       "      <th>0</th>\n",
       "      <td>1 регион</td>\n",
       "      <td>6.150470e+08</td>\n",
       "      <td>(-20884982.29624209, 1239730575.9180634)</td>\n",
       "      <td>3.0</td>\n",
       "    </tr>\n",
       "    <tr>\n",
       "      <th>1</th>\n",
       "      <td>2 регион</td>\n",
       "      <td>6.470977e+08</td>\n",
       "      <td>(143797589.38681215, 1202909913.330936)</td>\n",
       "      <td>0.3</td>\n",
       "    </tr>\n",
       "    <tr>\n",
       "      <th>2</th>\n",
       "      <td>3 регион</td>\n",
       "      <td>6.011183e+08</td>\n",
       "      <td>(-18054437.17901816, 1289954719.1920974)</td>\n",
       "      <td>3.1</td>\n",
       "    </tr>\n",
       "  </tbody>\n",
       "</table>\n",
       "</div>"
      ],
      "text/plain": [
       "     Регион  Средняя прибыль              95%-й доверительный интервал  \\\n",
       "0  1 регион     6.150470e+08  (-20884982.29624209, 1239730575.9180634)   \n",
       "1  2 регион     6.470977e+08   (143797589.38681215, 1202909913.330936)   \n",
       "2  3 регион     6.011183e+08  (-18054437.17901816, 1289954719.1920974)   \n",
       "\n",
       "   Риск убытков  \n",
       "0           3.0  \n",
       "1           0.3  \n",
       "2           3.1  "
      ]
     },
     "execution_count": 25,
     "metadata": {},
     "output_type": "execute_result"
    }
   ],
   "source": [
    "state = RandomState(12345)\n",
    "info_region = pd.DataFrame(columns=['Регион', 'Средняя прибыль','95%-й доверительный интервал','Риск убытков'])\n",
    "for i in range(len(region)):\n",
    "    profit = []\n",
    "    pred = y_pred[i]\n",
    "    true = y_true[i]\n",
    "    for j in range(volume):\n",
    "        true_sample = true.sample(number_points, random_state=state, replace = True)\n",
    "        pred_sample = pred[true_sample.index]\n",
    "        \n",
    "        profit.append(profit_calculation(pred_sample, true_sample, best_points, revenue_unit_barrel, budget))\n",
    "    profit = pd.Series(profit)\n",
    "\n",
    "    mean = profit.mean()\n",
    "    region_i = region[i]\n",
    "    #confidential_interval = st.t.interval(alpha=0.95, df=len(profit)-1, loc=np.mean(profit), scale=st.sem(profit))\n",
    "    confidential_interval = profit.quantile(0.025), profit.quantile(0.975)\n",
    "    risks = round(((profit < 0).sum() / profit.count() * 100),1)\n",
    "    info_region.loc[len(info_region)] = [region_i, mean, confidential_interval, risks]\n",
    "info_region"
   ]
  },
  {
   "cell_type": "code",
   "execution_count": 26,
   "metadata": {
    "scrolled": false
   },
   "outputs": [
    {
     "data": {
      "image/png": "[encoded data removed]",
      "text/plain": [
       "<Figure size 720x432 with 1 Axes>"
      ]
     },
     "metadata": {
      "needs_background": "light"
     },
     "output_type": "display_data"
    }
   ],
   "source": [
    "info_region[['Регион', 'Риск убытков',]].plot(x='Регион', kind='bar', figsize=(10,6), ylabel='Риск убытков', title='Риск убытков по регионам', grid=True)\n",
    "None"
   ]
  },
  {
   "cell_type": "markdown",
   "metadata": {},
   "source": [
    "#### Вывод\n",
    "\n",
    "1) Только во втором регионе риск убытков меньше 2.5%\n",
    "\n",
    "2) Средняя прибыль больше всего во втором регионе \n",
    "\n",
    "3) Только у второго региона доверительный интервал не содержить отрицательных чисел\n",
    "\n",
    "**Для разработки скважин нам подойдет второй регион, так как только там риск убытков меньше 2.5% и Средняя прибыль больше всего во втором регионе**"
   ]
  },
  {
   "attachments": {
    "image-3.png": {
     "image/png": "[encoded data removed]"
    },
    "image.png": {
     "image/png": "[encoded data removed]"
    }
   },
   "cell_type": "markdown",
   "metadata": {},
   "source": [
    "## Общие выводы\n",
    "\n",
    "### Предобработка данных\n",
    "\n",
    "***Геологоразведка 1-го региона***\n",
    "\n",
    "1) Явных дубликатов в данном DataFrame нет\n",
    "\n",
    "2) Не явных дубликатов в данном DataFrame нет\n",
    "\n",
    "3) Пропусков в данном DataFrame нет\n",
    "\n",
    "***Геологоразведка 2-го региона***\n",
    "\n",
    "1) Явных дубликатов в данном DataFrame нет\n",
    "\n",
    "2) Не явных дубликатов в данном DataFrame нет\n",
    "\n",
    "3) Пропусков в данном DataFrame нет\n",
    "\n",
    "***Геологоразведка 3-го региона***\n",
    "\n",
    "1) Явных дубликатов в данном DataFrame нет\n",
    "\n",
    "2) Не явных дубликатов в данном DataFrame нет\n",
    "\n",
    "3) Пропусков в данном DataFrame нет\n",
    "\n",
    "----\n",
    "\n",
    "### Исследовательский анализ \n",
    "\n",
    "***Геологоразведка 1-го региона***\n",
    "\n",
    "1) Признак *f2* имеет выбросы, но мы их оставим для разнообразия признака\n",
    "\n",
    "2) Все признаки имеют нормальное распределение\n",
    "\n",
    "***Геологоразведка 2-го региона***\n",
    "\n",
    "1) Признак *f0* имеет выбросы, но мы их оставим для разнообразия признака\n",
    "\n",
    "2) Признак *f1* имеет выбросы, но мы их оставим для разнообразия признака\n",
    "\n",
    "3) Все признаки имеют нормальное распределение\n",
    "\n",
    "***Геологоразведка 3-го региона***\n",
    "\n",
    "1) Признак *f0* имеет выбросы, но мы их оставим для разнообразия признака\n",
    "\n",
    "2) Признак *f1* имеет выбросы, но мы их оставим для разнообразия признака\n",
    "\n",
    "3) Признак *f2* имеет выбросы, но мы их оставим для разнообразия признака\n",
    "\n",
    "4) Все признаки имеют нормальное распределение\n",
    "\n",
    "----\n",
    "\n",
    "### Корреляционный анализ \n",
    "\n",
    "***Геологоразведка 1-го региона***\n",
    "\n",
    "1) *f0* имеет слабую линейную зависимость с таргетом\n",
    "\n",
    "2) *f1* не имеет линейную зависимость с таргетом \n",
    "\n",
    "3) *f2* имеет умеренную линейную зависимость с таргетом\n",
    "\n",
    "4) Мультиколлинеарность отсутвует \n",
    "\n",
    "***Геологоразведка 2-го региона***\n",
    "\n",
    "1) *f0* не имеет линейную зависимость с таргетом\n",
    "\n",
    "2) *f1* не имеет линейную зависимость с таргетом \n",
    "\n",
    "3) *f2* имеет весьма высокую линейную зависимость с таргетом\n",
    "\n",
    "4) Мультиколлинеарность отсутвует \n",
    "\n",
    "***Геологоразведка 3-го региона***\n",
    "\n",
    "1) *f0* не имеет линейную зависимость с таргетом\n",
    "\n",
    "2) *f1* не имеет линейную зависимость с таргетом \n",
    "\n",
    "3) *f2* имеет умеренную линейную зависимость с таргетом\n",
    "\n",
    "4) Мультиколлинеарность отсутвует \n",
    "\n",
    "----\n",
    "\n",
    "### Обучение и проверка модели\n",
    "\n",
    "***Геологоразведка 1-го региона***\n",
    "\n",
    "1) Модель которая была обучена на данных 1-го региона показала метрику RMSE равную 37.76\n",
    "\n",
    "2) Средний запас предсказанного сырья 1-го региона равняется 92.4\n",
    "\n",
    "***Геологоразведка 2-го региона***\n",
    "\n",
    "1) Модель которая была обучена на данных 2-го региона показала метрику RMSE равную 0.89. Метрика показала такое маленькое значение, возможно, из-за высокой корелляции признака *f2* с таргетом\n",
    "\n",
    "2) Средний запас предсказанного сырья 2-го региона равняется 68.71. Он является самым наименьшим по сравнению с другими регионами\n",
    "\n",
    "***Геологоразведка 3-го региона***\n",
    "\n",
    "1) Модель которая была обучена на данных 3-го региона показала метрику RMSE равную 40.15\n",
    "\n",
    "2) Средний запас предсказанного сырья 3-го региона равняется 94.77\n",
    "\n",
    "----\n",
    "\n",
    "### Подготовка к расчёту прибыли\n",
    "\n",
    "![image.png](attachment:image.png)\n",
    "\n",
    "1) Средний запас у всех регионов меньше чем объём сырья для безубыточной разработки новой скважины.\n",
    "\n",
    "2) Нужно из всех регионов выбрать 200 точек для скважин и вкладываться в их строительство  \n",
    "\n",
    "----\n",
    "\n",
    "### Расчёт прибыли и рисков \n",
    "\n",
    "| Регион      | Прибыль        |\n",
    "|-------------|----------------|\n",
    "| 1 регион    | 3.359141e+09   | \n",
    "| 2 регион    | 2.415087e+09   |\n",
    "| 3 регион    | 2.598572e+09   |\n",
    "\n",
    "1) В первом регионе 200 лучших скважин больше всего прибыли принесет: 3359141000 руб\n",
    "\n",
    "2) Во втором и третьем регионе 200 лучших скважин меньше принесут прибыли: 2415087000 руб, 2598572000 руб\n",
    "\n",
    "| Регион      | Средняя прибыль| 95%-й доверительный интервал             | Риск убытков|\n",
    "|-------------|----------------|------------------------------------------|-------------|\n",
    "| 1 регион    | 6.150470e+08   | (-20884982.29624209, 1239730575.9180634) | 3.0         |\n",
    "| 2 регион    | 6.470977e+08   | (143797589.38681215, 1202909913.330936)  | 0.3         |\n",
    "| 3 регион    | 6.011183e+08   | (-18054437.17901816, 1289954719.1920974) | 3.1         |\n",
    "\n",
    "![image-3.png](attachment:image-3.png)\n",
    "\n",
    "1) Только во втором регионе риск убытков меньше 2.5%\n",
    "\n",
    "2) Средняя прибыль больше всего во втором регионе \n",
    "\n",
    "3) Только у второго региона доверительный интервал не содержить отрицательных чисел\n",
    "\n",
    "**Для разработки скважин нам подойдет второй регион, так как только там риск убытков меньше 2.5% и Средняя прибыль больше всего во втором регионе**"
   ]
  }
 ],
 "metadata": {
  "ExecuteTimeLog": [
   {
    "duration": 351,
    "start_time": "2023-11-13T20:26:37.316Z"
   },
   {
    "duration": 376,
    "start_time": "2023-11-13T20:28:17.443Z"
   },
   {
    "duration": 212,
    "start_time": "2023-11-13T20:29:16.193Z"
   },
   {
    "duration": 224,
    "start_time": "2023-11-13T20:30:08.221Z"
   },
   {
    "duration": 5,
    "start_time": "2023-11-13T20:37:25.569Z"
   },
   {
    "duration": 86,
    "start_time": "2023-11-13T20:37:48.058Z"
   },
   {
    "duration": 4,
    "start_time": "2023-11-13T20:38:35.824Z"
   },
   {
    "duration": 113,
    "start_time": "2023-11-13T20:38:41.059Z"
   },
   {
    "duration": 89,
    "start_time": "2023-11-13T20:39:07.734Z"
   },
   {
    "duration": 5,
    "start_time": "2023-11-13T20:40:06.391Z"
   },
   {
    "duration": 62,
    "start_time": "2023-11-13T20:40:11.692Z"
   },
   {
    "duration": 4,
    "start_time": "2023-11-13T20:40:28.219Z"
   },
   {
    "duration": 57,
    "start_time": "2023-11-13T20:40:32.707Z"
   },
   {
    "duration": 4,
    "start_time": "2023-11-13T20:40:59.824Z"
   },
   {
    "duration": 57,
    "start_time": "2023-11-13T20:41:04.363Z"
   },
   {
    "duration": 3,
    "start_time": "2023-11-13T20:41:24.714Z"
   },
   {
    "duration": 76,
    "start_time": "2023-11-13T20:41:28.845Z"
   },
   {
    "duration": 3,
    "start_time": "2023-11-13T20:41:52.025Z"
   },
   {
    "duration": 59,
    "start_time": "2023-11-13T20:41:56.402Z"
   },
   {
    "duration": 6,
    "start_time": "2023-11-13T20:42:17.065Z"
   },
   {
    "duration": 69,
    "start_time": "2023-11-13T20:42:21.536Z"
   },
   {
    "duration": 5,
    "start_time": "2023-11-13T20:43:08.804Z"
   },
   {
    "duration": 66,
    "start_time": "2023-11-13T20:43:12.753Z"
   },
   {
    "duration": 64,
    "start_time": "2023-11-13T20:43:50.924Z"
   },
   {
    "duration": 78,
    "start_time": "2023-11-13T20:47:06.694Z"
   },
   {
    "duration": 71,
    "start_time": "2023-11-13T20:47:21.259Z"
   },
   {
    "duration": 7,
    "start_time": "2023-11-13T20:49:41.412Z"
   },
   {
    "duration": 12,
    "start_time": "2023-11-13T20:50:12.488Z"
   },
   {
    "duration": 125533,
    "start_time": "2023-11-13T20:50:39.566Z"
   },
   {
    "duration": 1238,
    "start_time": "2023-11-13T20:52:45.101Z"
   },
   {
    "duration": 454,
    "start_time": "2023-11-13T21:06:40.713Z"
   },
   {
    "duration": 44,
    "start_time": "2023-11-13T21:06:55.039Z"
   },
   {
    "duration": 12,
    "start_time": "2023-11-13T21:07:16.710Z"
   },
   {
    "duration": 1191,
    "start_time": "2023-11-13T21:07:26.600Z"
   },
   {
    "duration": 1121,
    "start_time": "2023-11-13T21:12:01.671Z"
   },
   {
    "duration": 1208,
    "start_time": "2023-11-13T21:14:06.005Z"
   },
   {
    "duration": 1122,
    "start_time": "2023-11-13T21:15:32.222Z"
   },
   {
    "duration": 1241,
    "start_time": "2023-11-13T21:17:36.847Z"
   },
   {
    "duration": 54,
    "start_time": "2023-11-13T21:22:15.512Z"
   },
   {
    "duration": 487,
    "start_time": "2023-11-13T21:27:47.590Z"
   },
   {
    "duration": 419,
    "start_time": "2023-11-13T21:30:58.052Z"
   },
   {
    "duration": 418,
    "start_time": "2023-11-13T21:32:14.540Z"
   },
   {
    "duration": 253,
    "start_time": "2023-11-13T21:38:29.296Z"
   },
   {
    "duration": 3,
    "start_time": "2023-11-13T21:38:56.702Z"
   },
   {
    "duration": 17,
    "start_time": "2023-11-13T21:40:33.841Z"
   },
   {
    "duration": 1274,
    "start_time": "2023-11-13T21:47:21.185Z"
   },
   {
    "duration": 19,
    "start_time": "2023-11-13T21:47:39.073Z"
   },
   {
    "duration": 20,
    "start_time": "2023-11-13T21:47:45.303Z"
   },
   {
    "duration": 23,
    "start_time": "2023-11-13T21:49:06.322Z"
   },
   {
    "duration": 28,
    "start_time": "2023-11-13T21:49:15.005Z"
   },
   {
    "duration": 27,
    "start_time": "2023-11-13T21:49:26.796Z"
   },
   {
    "duration": 27,
    "start_time": "2023-11-13T21:49:43.044Z"
   },
   {
    "duration": 20,
    "start_time": "2023-11-13T21:49:49.142Z"
   },
   {
    "duration": 33,
    "start_time": "2023-11-13T21:51:59.755Z"
   },
   {
    "duration": 32,
    "start_time": "2023-11-13T21:52:19.521Z"
   },
   {
    "duration": 32,
    "start_time": "2023-11-13T21:54:13.627Z"
   },
   {
    "duration": 32,
    "start_time": "2023-11-13T21:54:18.010Z"
   },
   {
    "duration": 1556,
    "start_time": "2023-11-14T21:31:55.460Z"
   },
   {
    "duration": 9,
    "start_time": "2023-11-14T21:31:57.018Z"
   },
   {
    "duration": 419,
    "start_time": "2023-11-14T21:31:57.029Z"
   },
   {
    "duration": 215,
    "start_time": "2023-11-14T21:31:57.450Z"
   },
   {
    "duration": 213,
    "start_time": "2023-11-14T21:31:57.668Z"
   },
   {
    "duration": 70,
    "start_time": "2023-11-14T21:31:57.883Z"
   },
   {
    "duration": 60,
    "start_time": "2023-11-14T21:31:57.954Z"
   },
   {
    "duration": 79,
    "start_time": "2023-11-14T21:31:58.015Z"
   },
   {
    "duration": 1017,
    "start_time": "2023-11-14T21:31:58.095Z"
   },
   {
    "duration": 1246,
    "start_time": "2023-11-14T21:31:59.114Z"
   },
   {
    "duration": 962,
    "start_time": "2023-11-14T21:32:00.361Z"
   },
   {
    "duration": 1167,
    "start_time": "2023-11-14T21:32:01.324Z"
   },
   {
    "duration": 1052,
    "start_time": "2023-11-14T21:32:02.493Z"
   },
   {
    "duration": 1148,
    "start_time": "2023-11-14T21:32:03.559Z"
   },
   {
    "duration": 475,
    "start_time": "2023-11-14T21:32:04.709Z"
   },
   {
    "duration": 459,
    "start_time": "2023-11-14T21:32:05.186Z"
   },
   {
    "duration": 460,
    "start_time": "2023-11-14T21:32:05.647Z"
   },
   {
    "duration": 145,
    "start_time": "2023-11-14T21:32:06.108Z"
   },
   {
    "duration": 36,
    "start_time": "2023-11-14T21:32:06.255Z"
   },
   {
    "duration": 37,
    "start_time": "2023-11-14T21:32:06.293Z"
   },
   {
    "duration": 3,
    "start_time": "2023-11-14T21:35:21.279Z"
   },
   {
    "duration": 8,
    "start_time": "2023-11-14T21:35:21.284Z"
   },
   {
    "duration": 154,
    "start_time": "2023-11-14T21:35:21.293Z"
   },
   {
    "duration": 135,
    "start_time": "2023-11-14T21:35:21.449Z"
   },
   {
    "duration": 141,
    "start_time": "2023-11-14T21:35:21.585Z"
   },
   {
    "duration": 74,
    "start_time": "2023-11-14T21:35:21.728Z"
   },
   {
    "duration": 68,
    "start_time": "2023-11-14T21:35:21.804Z"
   },
   {
    "duration": 56,
    "start_time": "2023-11-14T21:35:21.874Z"
   },
   {
    "duration": 899,
    "start_time": "2023-11-14T21:35:21.932Z"
   },
   {
    "duration": 1079,
    "start_time": "2023-11-14T21:35:22.833Z"
   },
   {
    "duration": 1015,
    "start_time": "2023-11-14T21:35:23.914Z"
   },
   {
    "duration": 1064,
    "start_time": "2023-11-14T21:35:24.931Z"
   },
   {
    "duration": 963,
    "start_time": "2023-11-14T21:35:25.996Z"
   },
   {
    "duration": 1261,
    "start_time": "2023-11-14T21:35:26.961Z"
   },
   {
    "duration": 416,
    "start_time": "2023-11-14T21:35:28.223Z"
   },
   {
    "duration": 373,
    "start_time": "2023-11-14T21:35:28.640Z"
   },
   {
    "duration": 391,
    "start_time": "2023-11-14T21:35:29.014Z"
   },
   {
    "duration": 46,
    "start_time": "2023-11-14T21:35:29.407Z"
   },
   {
    "duration": 35,
    "start_time": "2023-11-14T21:35:29.455Z"
   },
   {
    "duration": 35,
    "start_time": "2023-11-14T21:35:29.492Z"
   },
   {
    "duration": 106,
    "start_time": "2023-11-14T21:36:56.592Z"
   },
   {
    "duration": 19,
    "start_time": "2023-11-14T21:37:05.667Z"
   },
   {
    "duration": 5,
    "start_time": "2023-11-14T21:42:12.313Z"
   },
   {
    "duration": 4,
    "start_time": "2023-11-14T21:50:05.637Z"
   },
   {
    "duration": 16,
    "start_time": "2023-11-14T22:15:01.194Z"
   },
   {
    "duration": 10,
    "start_time": "2023-11-14T22:15:28.296Z"
   },
   {
    "duration": 13,
    "start_time": "2023-11-14T22:15:48.904Z"
   },
   {
    "duration": 5,
    "start_time": "2023-11-14T22:16:31.770Z"
   },
   {
    "duration": 4,
    "start_time": "2023-11-14T22:16:55.202Z"
   },
   {
    "duration": 5,
    "start_time": "2023-11-14T22:16:58.378Z"
   },
   {
    "duration": 4,
    "start_time": "2023-11-14T22:17:44.407Z"
   },
   {
    "duration": 4,
    "start_time": "2023-11-14T22:19:19.335Z"
   },
   {
    "duration": 105,
    "start_time": "2023-11-14T22:22:17.572Z"
   },
   {
    "duration": 105,
    "start_time": "2023-11-14T22:22:19.600Z"
   },
   {
    "duration": 1613,
    "start_time": "2023-11-14T22:22:29.432Z"
   },
   {
    "duration": 38,
    "start_time": "2023-11-14T22:22:49.949Z"
   },
   {
    "duration": 94,
    "start_time": "2023-11-15T10:39:43.567Z"
   },
   {
    "duration": 1607,
    "start_time": "2023-11-15T10:59:57.469Z"
   },
   {
    "duration": 4,
    "start_time": "2023-11-15T11:00:11.185Z"
   },
   {
    "duration": 181,
    "start_time": "2023-11-15T11:00:27.149Z"
   },
   {
    "duration": 95,
    "start_time": "2023-11-15T11:00:34.566Z"
   },
   {
    "duration": 14,
    "start_time": "2023-11-15T11:01:22.460Z"
   },
   {
    "duration": 10,
    "start_time": "2023-11-15T11:07:19.834Z"
   },
   {
    "duration": 3,
    "start_time": "2023-11-15T11:08:27.929Z"
   },
   {
    "duration": 10,
    "start_time": "2023-11-15T11:08:27.934Z"
   },
   {
    "duration": 521,
    "start_time": "2023-11-15T11:08:27.946Z"
   },
   {
    "duration": 600,
    "start_time": "2023-11-15T11:08:28.469Z"
   },
   {
    "duration": 569,
    "start_time": "2023-11-15T11:08:29.071Z"
   },
   {
    "duration": 64,
    "start_time": "2023-11-15T11:08:29.641Z"
   },
   {
    "duration": 62,
    "start_time": "2023-11-15T11:08:29.706Z"
   },
   {
    "duration": 60,
    "start_time": "2023-11-15T11:08:29.769Z"
   },
   {
    "duration": 980,
    "start_time": "2023-11-15T11:08:29.831Z"
   },
   {
    "duration": 1100,
    "start_time": "2023-11-15T11:08:30.812Z"
   },
   {
    "duration": 1033,
    "start_time": "2023-11-15T11:08:31.914Z"
   },
   {
    "duration": 1053,
    "start_time": "2023-11-15T11:08:32.949Z"
   },
   {
    "duration": 954,
    "start_time": "2023-11-15T11:08:34.003Z"
   },
   {
    "duration": 1218,
    "start_time": "2023-11-15T11:08:34.959Z"
   },
   {
    "duration": 456,
    "start_time": "2023-11-15T11:08:36.179Z"
   },
   {
    "duration": 386,
    "start_time": "2023-11-15T11:08:36.636Z"
   },
   {
    "duration": 378,
    "start_time": "2023-11-15T11:08:37.023Z"
   },
   {
    "duration": 136,
    "start_time": "2023-11-15T11:08:37.402Z"
   },
   {
    "duration": 11,
    "start_time": "2023-11-15T11:09:06.887Z"
   },
   {
    "duration": 40,
    "start_time": "2023-11-15T11:09:13.033Z"
   },
   {
    "duration": 10,
    "start_time": "2023-11-15T11:21:10.252Z"
   },
   {
    "duration": 40,
    "start_time": "2023-11-15T11:21:14.998Z"
   },
   {
    "duration": 9,
    "start_time": "2023-11-15T11:22:31.852Z"
   },
   {
    "duration": 40,
    "start_time": "2023-11-15T11:22:36.073Z"
   },
   {
    "duration": 8,
    "start_time": "2023-11-15T11:22:51.833Z"
   },
   {
    "duration": 10,
    "start_time": "2023-11-15T11:23:22.551Z"
   },
   {
    "duration": 26,
    "start_time": "2023-11-15T11:23:27.759Z"
   },
   {
    "duration": 9,
    "start_time": "2023-11-15T11:24:58.448Z"
   },
   {
    "duration": 29,
    "start_time": "2023-11-15T11:25:04.774Z"
   },
   {
    "duration": 9,
    "start_time": "2023-11-15T11:25:17.782Z"
   },
   {
    "duration": 37,
    "start_time": "2023-11-15T11:25:22.083Z"
   },
   {
    "duration": 10,
    "start_time": "2023-11-15T11:26:39.808Z"
   },
   {
    "duration": 108,
    "start_time": "2023-11-15T11:26:44.763Z"
   },
   {
    "duration": 9,
    "start_time": "2023-11-15T11:28:36.252Z"
   },
   {
    "duration": 25,
    "start_time": "2023-11-15T11:28:54.231Z"
   },
   {
    "duration": 5,
    "start_time": "2023-11-15T12:18:59.480Z"
   },
   {
    "duration": 9,
    "start_time": "2023-11-15T12:19:00.260Z"
   },
   {
    "duration": 152,
    "start_time": "2023-11-15T12:19:05.660Z"
   },
   {
    "duration": 151,
    "start_time": "2023-11-15T12:19:06.253Z"
   },
   {
    "duration": 153,
    "start_time": "2023-11-15T12:19:06.732Z"
   },
   {
    "duration": 64,
    "start_time": "2023-11-15T12:19:07.692Z"
   },
   {
    "duration": 63,
    "start_time": "2023-11-15T12:19:08.288Z"
   },
   {
    "duration": 61,
    "start_time": "2023-11-15T12:19:08.841Z"
   },
   {
    "duration": 936,
    "start_time": "2023-11-15T12:19:09.692Z"
   },
   {
    "duration": 1058,
    "start_time": "2023-11-15T12:19:10.630Z"
   },
   {
    "duration": 1045,
    "start_time": "2023-11-15T12:19:11.689Z"
   },
   {
    "duration": 1085,
    "start_time": "2023-11-15T12:19:12.736Z"
   },
   {
    "duration": 1051,
    "start_time": "2023-11-15T12:19:13.823Z"
   },
   {
    "duration": 1065,
    "start_time": "2023-11-15T12:19:14.876Z"
   },
   {
    "duration": 401,
    "start_time": "2023-11-15T12:19:15.942Z"
   },
   {
    "duration": 375,
    "start_time": "2023-11-15T12:19:16.344Z"
   },
   {
    "duration": 384,
    "start_time": "2023-11-15T12:19:16.721Z"
   },
   {
    "duration": 52,
    "start_time": "2023-11-15T12:19:17.107Z"
   },
   {
    "duration": 26,
    "start_time": "2023-11-15T12:20:18.449Z"
   },
   {
    "duration": 25,
    "start_time": "2023-11-15T12:20:24.021Z"
   },
   {
    "duration": 28,
    "start_time": "2023-11-15T12:20:31.280Z"
   },
   {
    "duration": 24,
    "start_time": "2023-11-15T12:20:41.840Z"
   },
   {
    "duration": 27,
    "start_time": "2023-11-15T12:24:47.519Z"
   },
   {
    "duration": 25,
    "start_time": "2023-11-15T12:25:29.660Z"
   },
   {
    "duration": 26,
    "start_time": "2023-11-15T12:26:30.479Z"
   },
   {
    "duration": 3,
    "start_time": "2023-11-15T12:34:53.656Z"
   },
   {
    "duration": 128,
    "start_time": "2023-11-15T12:34:53.661Z"
   },
   {
    "duration": 290,
    "start_time": "2023-11-15T12:34:53.791Z"
   },
   {
    "duration": 145,
    "start_time": "2023-11-15T12:34:54.083Z"
   },
   {
    "duration": 147,
    "start_time": "2023-11-15T12:34:54.230Z"
   },
   {
    "duration": 62,
    "start_time": "2023-11-15T12:34:54.379Z"
   },
   {
    "duration": 71,
    "start_time": "2023-11-15T12:34:54.443Z"
   },
   {
    "duration": 76,
    "start_time": "2023-11-15T12:34:54.516Z"
   },
   {
    "duration": 963,
    "start_time": "2023-11-15T12:34:54.594Z"
   },
   {
    "duration": 1201,
    "start_time": "2023-11-15T12:34:55.560Z"
   },
   {
    "duration": 875,
    "start_time": "2023-11-15T12:34:56.763Z"
   },
   {
    "duration": 1054,
    "start_time": "2023-11-15T12:34:57.640Z"
   },
   {
    "duration": 1064,
    "start_time": "2023-11-15T12:34:58.696Z"
   },
   {
    "duration": 1106,
    "start_time": "2023-11-15T12:34:59.762Z"
   },
   {
    "duration": 442,
    "start_time": "2023-11-15T12:35:00.870Z"
   },
   {
    "duration": 381,
    "start_time": "2023-11-15T12:35:01.313Z"
   },
   {
    "duration": 424,
    "start_time": "2023-11-15T12:35:01.696Z"
   },
   {
    "duration": 36,
    "start_time": "2023-11-15T12:35:02.121Z"
   },
   {
    "duration": 243,
    "start_time": "2023-11-15T12:35:02.163Z"
   },
   {
    "duration": 170,
    "start_time": "2023-11-15T12:35:02.408Z"
   },
   {
    "duration": 1568,
    "start_time": "2023-11-15T17:36:53.674Z"
   },
   {
    "duration": 9,
    "start_time": "2023-11-15T17:36:55.244Z"
   },
   {
    "duration": 552,
    "start_time": "2023-11-15T17:36:55.255Z"
   },
   {
    "duration": 596,
    "start_time": "2023-11-15T17:36:55.809Z"
   },
   {
    "duration": 563,
    "start_time": "2023-11-15T17:36:56.407Z"
   },
   {
    "duration": 66,
    "start_time": "2023-11-15T17:36:56.971Z"
   },
   {
    "duration": 81,
    "start_time": "2023-11-15T17:36:57.039Z"
   },
   {
    "duration": 78,
    "start_time": "2023-11-15T17:36:57.121Z"
   },
   {
    "duration": 1004,
    "start_time": "2023-11-15T17:36:57.200Z"
   },
   {
    "duration": 1204,
    "start_time": "2023-11-15T17:36:58.206Z"
   },
   {
    "duration": 966,
    "start_time": "2023-11-15T17:36:59.412Z"
   },
   {
    "duration": 1224,
    "start_time": "2023-11-15T17:37:00.379Z"
   },
   {
    "duration": 1013,
    "start_time": "2023-11-15T17:37:01.605Z"
   },
   {
    "duration": 1120,
    "start_time": "2023-11-15T17:37:02.620Z"
   },
   {
    "duration": 479,
    "start_time": "2023-11-15T17:37:03.741Z"
   },
   {
    "duration": 409,
    "start_time": "2023-11-15T17:37:04.221Z"
   },
   {
    "duration": 503,
    "start_time": "2023-11-15T17:37:04.631Z"
   },
   {
    "duration": 39,
    "start_time": "2023-11-15T17:37:05.136Z"
   },
   {
    "duration": 197,
    "start_time": "2023-11-15T17:37:05.177Z"
   },
   {
    "duration": 184,
    "start_time": "2023-11-15T17:37:05.376Z"
   },
   {
    "duration": 9,
    "start_time": "2023-11-15T17:47:03.268Z"
   },
   {
    "duration": 26,
    "start_time": "2023-11-15T17:47:28.619Z"
   },
   {
    "duration": 26,
    "start_time": "2023-11-15T17:47:34.171Z"
   },
   {
    "duration": 25,
    "start_time": "2023-11-15T17:47:39.268Z"
   },
   {
    "duration": 25,
    "start_time": "2023-11-15T17:50:23.275Z"
   },
   {
    "duration": 131,
    "start_time": "2023-11-15T17:58:19.738Z"
   },
   {
    "duration": 79,
    "start_time": "2023-11-15T18:06:32.694Z"
   },
   {
    "duration": 32,
    "start_time": "2023-11-15T18:06:55.811Z"
   },
   {
    "duration": 48,
    "start_time": "2023-11-15T18:07:16.133Z"
   },
   {
    "duration": 116,
    "start_time": "2023-11-15T18:32:15.266Z"
   },
   {
    "duration": 40,
    "start_time": "2023-11-15T18:32:32.417Z"
   },
   {
    "duration": 39,
    "start_time": "2023-11-15T18:32:44.245Z"
   },
   {
    "duration": 6,
    "start_time": "2023-11-15T18:42:24.352Z"
   },
   {
    "duration": 3,
    "start_time": "2023-11-15T18:43:17.077Z"
   },
   {
    "duration": 3,
    "start_time": "2023-11-15T18:44:02.071Z"
   },
   {
    "duration": 118,
    "start_time": "2023-11-15T19:42:40.724Z"
   },
   {
    "duration": 132,
    "start_time": "2023-11-15T19:42:58.200Z"
   },
   {
    "duration": 135,
    "start_time": "2023-11-15T19:44:06.792Z"
   },
   {
    "duration": 4,
    "start_time": "2023-11-15T20:13:19.037Z"
   },
   {
    "duration": 3,
    "start_time": "2023-11-15T20:16:40.971Z"
   },
   {
    "duration": 5,
    "start_time": "2023-11-15T20:16:48.176Z"
   },
   {
    "duration": 10,
    "start_time": "2023-11-15T20:26:48.436Z"
   },
   {
    "duration": 129,
    "start_time": "2023-11-15T20:32:30.957Z"
   },
   {
    "duration": 137,
    "start_time": "2023-11-15T20:33:09.711Z"
   },
   {
    "duration": 23,
    "start_time": "2023-11-15T20:33:17.587Z"
   },
   {
    "duration": 23,
    "start_time": "2023-11-15T20:34:13.605Z"
   },
   {
    "duration": 4,
    "start_time": "2023-11-15T20:35:35.030Z"
   },
   {
    "duration": 10,
    "start_time": "2023-11-15T20:36:48.596Z"
   },
   {
    "duration": 28,
    "start_time": "2023-11-15T20:36:56.351Z"
   },
   {
    "duration": 11,
    "start_time": "2023-11-15T20:38:54.566Z"
   },
   {
    "duration": 8,
    "start_time": "2023-11-15T20:39:06.413Z"
   },
   {
    "duration": 5,
    "start_time": "2023-11-15T20:39:15.795Z"
   },
   {
    "duration": 22,
    "start_time": "2023-11-15T20:39:43.160Z"
   },
   {
    "duration": 11,
    "start_time": "2023-11-15T20:40:38.682Z"
   },
   {
    "duration": 22,
    "start_time": "2023-11-15T20:40:53.542Z"
   },
   {
    "duration": 9,
    "start_time": "2023-11-15T20:41:27.600Z"
   },
   {
    "duration": 12,
    "start_time": "2023-11-15T20:41:48.613Z"
   },
   {
    "duration": 8,
    "start_time": "2023-11-15T20:42:06.783Z"
   },
   {
    "duration": 10,
    "start_time": "2023-11-15T20:42:30.016Z"
   },
   {
    "duration": 1236,
    "start_time": "2023-11-15T20:42:35.821Z"
   },
   {
    "duration": 9,
    "start_time": "2023-11-15T20:42:43.397Z"
   },
   {
    "duration": 11,
    "start_time": "2023-11-15T20:43:16.340Z"
   },
   {
    "duration": 18,
    "start_time": "2023-11-15T20:43:22.961Z"
   },
   {
    "duration": 6,
    "start_time": "2023-11-15T20:43:43.086Z"
   },
   {
    "duration": 5,
    "start_time": "2023-11-15T20:44:13.245Z"
   },
   {
    "duration": 8,
    "start_time": "2023-11-15T20:45:03.207Z"
   },
   {
    "duration": 12,
    "start_time": "2023-11-15T20:45:25.289Z"
   },
   {
    "duration": 7,
    "start_time": "2023-11-15T20:47:07.099Z"
   },
   {
    "duration": 4,
    "start_time": "2023-11-15T20:47:33.081Z"
   },
   {
    "duration": 9,
    "start_time": "2023-11-15T20:47:45.830Z"
   },
   {
    "duration": 3,
    "start_time": "2023-11-15T21:45:04.846Z"
   },
   {
    "duration": 41,
    "start_time": "2023-11-15T21:45:04.851Z"
   },
   {
    "duration": 189,
    "start_time": "2023-11-15T21:45:04.894Z"
   },
   {
    "duration": 135,
    "start_time": "2023-11-15T21:45:05.084Z"
   },
   {
    "duration": 138,
    "start_time": "2023-11-15T21:45:05.221Z"
   },
   {
    "duration": 60,
    "start_time": "2023-11-15T21:45:05.361Z"
   },
   {
    "duration": 80,
    "start_time": "2023-11-15T21:45:05.423Z"
   },
   {
    "duration": 93,
    "start_time": "2023-11-15T21:45:05.507Z"
   },
   {
    "duration": 935,
    "start_time": "2023-11-15T21:45:05.601Z"
   },
   {
    "duration": 1076,
    "start_time": "2023-11-15T21:45:06.537Z"
   },
   {
    "duration": 972,
    "start_time": "2023-11-15T21:45:07.615Z"
   },
   {
    "duration": 1071,
    "start_time": "2023-11-15T21:45:08.588Z"
   },
   {
    "duration": 986,
    "start_time": "2023-11-15T21:45:09.661Z"
   },
   {
    "duration": 1181,
    "start_time": "2023-11-15T21:45:10.649Z"
   },
   {
    "duration": 394,
    "start_time": "2023-11-15T21:45:11.832Z"
   },
   {
    "duration": 371,
    "start_time": "2023-11-15T21:45:12.227Z"
   },
   {
    "duration": 390,
    "start_time": "2023-11-15T21:45:12.599Z"
   },
   {
    "duration": 69,
    "start_time": "2023-11-15T21:45:12.990Z"
   },
   {
    "duration": 400,
    "start_time": "2023-11-15T21:45:13.060Z"
   },
   {
    "duration": 194,
    "start_time": "2023-11-15T21:45:13.462Z"
   },
   {
    "duration": 4,
    "start_time": "2023-11-15T21:45:13.658Z"
   },
   {
    "duration": 97,
    "start_time": "2023-11-15T21:45:13.664Z"
   },
   {
    "duration": 135,
    "start_time": "2023-11-15T21:45:13.763Z"
   },
   {
    "duration": 14,
    "start_time": "2023-11-15T21:45:13.900Z"
   },
   {
    "duration": 20,
    "start_time": "2023-11-15T21:45:31.534Z"
   },
   {
    "duration": 1568,
    "start_time": "2023-11-16T06:48:39.493Z"
   },
   {
    "duration": 11,
    "start_time": "2023-11-16T06:48:41.063Z"
   },
   {
    "duration": 572,
    "start_time": "2023-11-16T06:48:41.076Z"
   },
   {
    "duration": 603,
    "start_time": "2023-11-16T06:48:41.649Z"
   },
   {
    "duration": 569,
    "start_time": "2023-11-16T06:48:42.254Z"
   },
   {
    "duration": 78,
    "start_time": "2023-11-16T06:48:42.824Z"
   },
   {
    "duration": 57,
    "start_time": "2023-11-16T06:48:42.904Z"
   },
   {
    "duration": 79,
    "start_time": "2023-11-16T06:48:42.962Z"
   },
   {
    "duration": 1006,
    "start_time": "2023-11-16T06:48:43.042Z"
   },
   {
    "duration": 1191,
    "start_time": "2023-11-16T06:48:44.050Z"
   },
   {
    "duration": 995,
    "start_time": "2023-11-16T06:48:45.243Z"
   },
   {
    "duration": 1229,
    "start_time": "2023-11-16T06:48:46.240Z"
   },
   {
    "duration": 1030,
    "start_time": "2023-11-16T06:48:47.471Z"
   },
   {
    "duration": 1172,
    "start_time": "2023-11-16T06:48:48.505Z"
   },
   {
    "duration": 757,
    "start_time": "2023-11-16T06:48:49.679Z"
   },
   {
    "duration": 697,
    "start_time": "2023-11-16T06:48:50.437Z"
   },
   {
    "duration": 723,
    "start_time": "2023-11-16T06:48:51.135Z"
   },
   {
    "duration": 139,
    "start_time": "2023-11-16T06:48:51.860Z"
   },
   {
    "duration": 125,
    "start_time": "2023-11-16T06:48:52.001Z"
   },
   {
    "duration": 111,
    "start_time": "2023-11-16T06:48:52.201Z"
   },
   {
    "duration": 4,
    "start_time": "2023-11-16T06:48:52.314Z"
   },
   {
    "duration": 85,
    "start_time": "2023-11-16T06:48:52.319Z"
   },
   {
    "duration": 221,
    "start_time": "2023-11-16T06:48:52.406Z"
   },
   {
    "duration": 23,
    "start_time": "2023-11-16T06:48:52.629Z"
   },
   {
    "duration": 126,
    "start_time": "2023-11-16T06:55:37.300Z"
   },
   {
    "duration": 140,
    "start_time": "2023-11-16T06:56:22.920Z"
   },
   {
    "duration": 158,
    "start_time": "2023-11-16T06:56:46.259Z"
   },
   {
    "duration": 4,
    "start_time": "2023-11-16T07:06:56.221Z"
   },
   {
    "duration": 21,
    "start_time": "2023-11-16T07:16:45.441Z"
   },
   {
    "duration": 112,
    "start_time": "2023-11-16T07:17:17.763Z"
   },
   {
    "duration": 25,
    "start_time": "2023-11-16T07:17:51.418Z"
   },
   {
    "duration": 21,
    "start_time": "2023-11-16T07:18:24.389Z"
   },
   {
    "duration": 11,
    "start_time": "2023-11-16T07:18:27.660Z"
   },
   {
    "duration": 103,
    "start_time": "2023-11-16T07:23:00.539Z"
   },
   {
    "duration": 1367,
    "start_time": "2023-11-16T07:23:04.955Z"
   },
   {
    "duration": 1343,
    "start_time": "2023-11-16T07:23:16.343Z"
   },
   {
    "duration": 3,
    "start_time": "2023-11-16T07:27:20.820Z"
   },
   {
    "duration": 6,
    "start_time": "2023-11-16T07:33:43.829Z"
   },
   {
    "duration": 5,
    "start_time": "2023-11-16T07:33:54.509Z"
   },
   {
    "duration": 5,
    "start_time": "2023-11-16T07:34:27.437Z"
   },
   {
    "duration": 1370,
    "start_time": "2023-11-16T07:47:33.191Z"
   },
   {
    "duration": 1330,
    "start_time": "2023-11-16T07:48:12.429Z"
   },
   {
    "duration": 1387,
    "start_time": "2023-11-16T07:48:34.913Z"
   },
   {
    "duration": 1423,
    "start_time": "2023-11-16T07:49:14.230Z"
   },
   {
    "duration": 3325,
    "start_time": "2023-11-16T07:50:24.514Z"
   },
   {
    "duration": 3330,
    "start_time": "2023-11-16T07:50:34.525Z"
   },
   {
    "duration": 1415,
    "start_time": "2023-11-16T07:50:54.149Z"
   },
   {
    "duration": 15,
    "start_time": "2023-11-16T07:52:27.229Z"
   },
   {
    "duration": 1588,
    "start_time": "2023-11-16T07:52:39.912Z"
   },
   {
    "duration": 1387,
    "start_time": "2023-11-16T07:56:51.074Z"
   },
   {
    "duration": 1351,
    "start_time": "2023-11-16T07:57:18.155Z"
   },
   {
    "duration": 1420,
    "start_time": "2023-11-16T07:57:50.111Z"
   },
   {
    "duration": 12,
    "start_time": "2023-11-16T07:57:51.534Z"
   },
   {
    "duration": 209,
    "start_time": "2023-11-16T07:57:51.548Z"
   },
   {
    "duration": 155,
    "start_time": "2023-11-16T07:57:51.759Z"
   },
   {
    "duration": 155,
    "start_time": "2023-11-16T07:57:51.916Z"
   },
   {
    "duration": 75,
    "start_time": "2023-11-16T07:57:52.072Z"
   },
   {
    "duration": 72,
    "start_time": "2023-11-16T07:57:52.149Z"
   },
   {
    "duration": 64,
    "start_time": "2023-11-16T07:57:52.223Z"
   },
   {
    "duration": 1023,
    "start_time": "2023-11-16T07:57:52.288Z"
   },
   {
    "duration": 1215,
    "start_time": "2023-11-16T07:57:53.315Z"
   },
   {
    "duration": 966,
    "start_time": "2023-11-16T07:57:54.532Z"
   },
   {
    "duration": 1239,
    "start_time": "2023-11-16T07:57:55.499Z"
   },
   {
    "duration": 1056,
    "start_time": "2023-11-16T07:57:56.739Z"
   },
   {
    "duration": 1149,
    "start_time": "2023-11-16T07:57:57.799Z"
   },
   {
    "duration": 409,
    "start_time": "2023-11-16T07:57:58.950Z"
   },
   {
    "duration": 394,
    "start_time": "2023-11-16T07:57:59.360Z"
   },
   {
    "duration": 514,
    "start_time": "2023-11-16T07:57:59.755Z"
   },
   {
    "duration": 35,
    "start_time": "2023-11-16T07:58:00.270Z"
   },
   {
    "duration": 209,
    "start_time": "2023-11-16T07:58:00.307Z"
   },
   {
    "duration": 284,
    "start_time": "2023-11-16T07:58:00.518Z"
   },
   {
    "duration": 3,
    "start_time": "2023-11-16T07:58:00.898Z"
   },
   {
    "duration": 57,
    "start_time": "2023-11-16T07:58:00.903Z"
   },
   {
    "duration": 190,
    "start_time": "2023-11-16T07:58:00.961Z"
   },
   {
    "duration": 19,
    "start_time": "2023-11-16T07:58:01.152Z"
   },
   {
    "duration": 1483,
    "start_time": "2023-11-16T07:58:01.173Z"
   },
   {
    "duration": 22,
    "start_time": "2023-11-16T07:58:50.192Z"
   },
   {
    "duration": 1848,
    "start_time": "2023-11-16T07:59:38.472Z"
   },
   {
    "duration": 1798,
    "start_time": "2023-11-16T07:59:59.392Z"
   },
   {
    "duration": 5060,
    "start_time": "2023-11-16T08:00:16.706Z"
   },
   {
    "duration": 3215,
    "start_time": "2023-11-16T08:00:22.471Z"
   },
   {
    "duration": 1504,
    "start_time": "2023-11-16T08:01:05.432Z"
   },
   {
    "duration": 1338,
    "start_time": "2023-11-16T08:01:43.121Z"
   },
   {
    "duration": 19,
    "start_time": "2023-11-16T08:06:16.836Z"
   },
   {
    "duration": 21,
    "start_time": "2023-11-16T08:07:30.625Z"
   },
   {
    "duration": 24,
    "start_time": "2023-11-16T08:09:43.991Z"
   },
   {
    "duration": 18,
    "start_time": "2023-11-16T08:09:44.914Z"
   },
   {
    "duration": 1369,
    "start_time": "2023-11-16T08:10:07.631Z"
   },
   {
    "duration": 20,
    "start_time": "2023-11-16T08:10:14.289Z"
   },
   {
    "duration": 1381,
    "start_time": "2023-11-16T08:10:14.719Z"
   },
   {
    "duration": 1305,
    "start_time": "2023-11-16T08:10:36.839Z"
   },
   {
    "duration": 1309,
    "start_time": "2023-11-16T08:12:08.352Z"
   },
   {
    "duration": 10,
    "start_time": "2023-11-16T08:12:29.552Z"
   },
   {
    "duration": 25,
    "start_time": "2023-11-16T08:13:00.951Z"
   },
   {
    "duration": 25,
    "start_time": "2023-11-16T08:13:15.992Z"
   },
   {
    "duration": 1291,
    "start_time": "2023-11-16T08:13:40.712Z"
   },
   {
    "duration": 2382,
    "start_time": "2023-11-16T08:15:51.633Z"
   },
   {
    "duration": 2396,
    "start_time": "2023-11-16T08:16:33.328Z"
   },
   {
    "duration": 15,
    "start_time": "2023-11-16T08:17:39.557Z"
   },
   {
    "duration": 18,
    "start_time": "2023-11-16T08:18:48.189Z"
   },
   {
    "duration": 1403,
    "start_time": "2023-11-16T08:19:36.521Z"
   },
   {
    "duration": 11,
    "start_time": "2023-11-16T08:19:37.926Z"
   },
   {
    "duration": 181,
    "start_time": "2023-11-16T08:19:37.939Z"
   },
   {
    "duration": 146,
    "start_time": "2023-11-16T08:19:38.122Z"
   },
   {
    "duration": 158,
    "start_time": "2023-11-16T08:19:38.269Z"
   },
   {
    "duration": 78,
    "start_time": "2023-11-16T08:19:38.428Z"
   },
   {
    "duration": 63,
    "start_time": "2023-11-16T08:19:38.507Z"
   },
   {
    "duration": 80,
    "start_time": "2023-11-16T08:19:38.571Z"
   },
   {
    "duration": 1020,
    "start_time": "2023-11-16T08:19:38.652Z"
   },
   {
    "duration": 1189,
    "start_time": "2023-11-16T08:19:39.675Z"
   },
   {
    "duration": 949,
    "start_time": "2023-11-16T08:19:40.866Z"
   },
   {
    "duration": 1193,
    "start_time": "2023-11-16T08:19:41.816Z"
   },
   {
    "duration": 995,
    "start_time": "2023-11-16T08:19:43.010Z"
   },
   {
    "duration": 1129,
    "start_time": "2023-11-16T08:19:44.006Z"
   },
   {
    "duration": 430,
    "start_time": "2023-11-16T08:19:45.136Z"
   },
   {
    "duration": 402,
    "start_time": "2023-11-16T08:19:45.568Z"
   },
   {
    "duration": 481,
    "start_time": "2023-11-16T08:19:45.971Z"
   },
   {
    "duration": 49,
    "start_time": "2023-11-16T08:19:46.454Z"
   },
   {
    "duration": 195,
    "start_time": "2023-11-16T08:19:46.505Z"
   },
   {
    "duration": 114,
    "start_time": "2023-11-16T08:19:46.703Z"
   },
   {
    "duration": 84,
    "start_time": "2023-11-16T08:19:46.820Z"
   },
   {
    "duration": 99,
    "start_time": "2023-11-16T08:19:46.907Z"
   },
   {
    "duration": 164,
    "start_time": "2023-11-16T08:19:47.007Z"
   },
   {
    "duration": 32,
    "start_time": "2023-11-16T08:19:47.173Z"
   },
   {
    "duration": 1445,
    "start_time": "2023-11-16T08:19:47.207Z"
   },
   {
    "duration": 1371,
    "start_time": "2023-11-16T08:20:04.321Z"
   },
   {
    "duration": 1326,
    "start_time": "2023-11-16T08:20:11.713Z"
   },
   {
    "duration": 1338,
    "start_time": "2023-11-16T08:20:27.033Z"
   },
   {
    "duration": 3,
    "start_time": "2023-11-16T08:20:32.113Z"
   },
   {
    "duration": 29,
    "start_time": "2023-11-16T08:20:32.118Z"
   },
   {
    "duration": 163,
    "start_time": "2023-11-16T08:20:32.149Z"
   },
   {
    "duration": 137,
    "start_time": "2023-11-16T08:20:32.314Z"
   },
   {
    "duration": 149,
    "start_time": "2023-11-16T08:20:32.453Z"
   },
   {
    "duration": 63,
    "start_time": "2023-11-16T08:20:32.604Z"
   },
   {
    "duration": 80,
    "start_time": "2023-11-16T08:20:32.669Z"
   },
   {
    "duration": 75,
    "start_time": "2023-11-16T08:20:32.751Z"
   },
   {
    "duration": 1004,
    "start_time": "2023-11-16T08:20:32.828Z"
   },
   {
    "duration": 1102,
    "start_time": "2023-11-16T08:20:33.835Z"
   },
   {
    "duration": 1025,
    "start_time": "2023-11-16T08:20:34.938Z"
   },
   {
    "duration": 1099,
    "start_time": "2023-11-16T08:20:35.965Z"
   },
   {
    "duration": 1069,
    "start_time": "2023-11-16T08:20:37.065Z"
   },
   {
    "duration": 1120,
    "start_time": "2023-11-16T08:20:38.136Z"
   },
   {
    "duration": 415,
    "start_time": "2023-11-16T08:20:39.258Z"
   },
   {
    "duration": 402,
    "start_time": "2023-11-16T08:20:39.675Z"
   },
   {
    "duration": 412,
    "start_time": "2023-11-16T08:20:40.079Z"
   },
   {
    "duration": 30,
    "start_time": "2023-11-16T08:20:40.493Z"
   },
   {
    "duration": 116,
    "start_time": "2023-11-16T08:20:40.604Z"
   },
   {
    "duration": 193,
    "start_time": "2023-11-16T08:20:40.722Z"
   },
   {
    "duration": 84,
    "start_time": "2023-11-16T08:20:40.918Z"
   },
   {
    "duration": 95,
    "start_time": "2023-11-16T08:20:41.004Z"
   },
   {
    "duration": 190,
    "start_time": "2023-11-16T08:20:41.101Z"
   },
   {
    "duration": 26,
    "start_time": "2023-11-16T08:20:41.292Z"
   },
   {
    "duration": 1329,
    "start_time": "2023-11-16T08:20:41.320Z"
   },
   {
    "duration": 1407,
    "start_time": "2023-11-16T08:20:53.837Z"
   },
   {
    "duration": 12,
    "start_time": "2023-11-16T08:20:55.246Z"
   },
   {
    "duration": 191,
    "start_time": "2023-11-16T08:20:55.259Z"
   },
   {
    "duration": 147,
    "start_time": "2023-11-16T08:20:55.452Z"
   },
   {
    "duration": 161,
    "start_time": "2023-11-16T08:20:55.601Z"
   },
   {
    "duration": 74,
    "start_time": "2023-11-16T08:20:55.763Z"
   },
   {
    "duration": 74,
    "start_time": "2023-11-16T08:20:55.839Z"
   },
   {
    "duration": 68,
    "start_time": "2023-11-16T08:20:55.914Z"
   },
   {
    "duration": 994,
    "start_time": "2023-11-16T08:20:56.000Z"
   },
   {
    "duration": 1206,
    "start_time": "2023-11-16T08:20:56.996Z"
   },
   {
    "duration": 941,
    "start_time": "2023-11-16T08:20:58.204Z"
   },
   {
    "duration": 1248,
    "start_time": "2023-11-16T08:20:59.147Z"
   },
   {
    "duration": 1017,
    "start_time": "2023-11-16T08:21:00.399Z"
   },
   {
    "duration": 1164,
    "start_time": "2023-11-16T08:21:01.418Z"
   },
   {
    "duration": 412,
    "start_time": "2023-11-16T08:21:02.583Z"
   },
   {
    "duration": 432,
    "start_time": "2023-11-16T08:21:02.998Z"
   },
   {
    "duration": 514,
    "start_time": "2023-11-16T08:21:03.432Z"
   },
   {
    "duration": 54,
    "start_time": "2023-11-16T08:21:03.948Z"
   },
   {
    "duration": 113,
    "start_time": "2023-11-16T08:21:04.005Z"
   },
   {
    "duration": 116,
    "start_time": "2023-11-16T08:21:04.200Z"
   },
   {
    "duration": 82,
    "start_time": "2023-11-16T08:21:04.318Z"
   },
   {
    "duration": 5,
    "start_time": "2023-11-16T08:21:04.403Z"
   },
   {
    "duration": 163,
    "start_time": "2023-11-16T08:21:04.498Z"
   },
   {
    "duration": 36,
    "start_time": "2023-11-16T08:21:04.663Z"
   },
   {
    "duration": 1488,
    "start_time": "2023-11-16T08:21:04.701Z"
   },
   {
    "duration": 1398,
    "start_time": "2023-11-16T08:21:51.953Z"
   },
   {
    "duration": 11,
    "start_time": "2023-11-16T08:21:53.353Z"
   },
   {
    "duration": 182,
    "start_time": "2023-11-16T08:21:53.365Z"
   },
   {
    "duration": 143,
    "start_time": "2023-11-16T08:21:53.549Z"
   },
   {
    "duration": 148,
    "start_time": "2023-11-16T08:21:53.698Z"
   },
   {
    "duration": 73,
    "start_time": "2023-11-16T08:21:53.848Z"
   },
   {
    "duration": 61,
    "start_time": "2023-11-16T08:21:53.923Z"
   },
   {
    "duration": 68,
    "start_time": "2023-11-16T08:21:53.999Z"
   },
   {
    "duration": 1009,
    "start_time": "2023-11-16T08:21:54.069Z"
   },
   {
    "duration": 1878,
    "start_time": "2023-11-16T08:21:55.080Z"
   },
   {
    "duration": 955,
    "start_time": "2023-11-16T08:21:56.960Z"
   },
   {
    "duration": 1241,
    "start_time": "2023-11-16T08:21:57.916Z"
   },
   {
    "duration": 999,
    "start_time": "2023-11-16T08:21:59.159Z"
   },
   {
    "duration": 1104,
    "start_time": "2023-11-16T08:22:00.160Z"
   },
   {
    "duration": 406,
    "start_time": "2023-11-16T08:22:01.266Z"
   },
   {
    "duration": 394,
    "start_time": "2023-11-16T08:22:01.673Z"
   },
   {
    "duration": 485,
    "start_time": "2023-11-16T08:22:02.069Z"
   },
   {
    "duration": 45,
    "start_time": "2023-11-16T08:22:02.556Z"
   },
   {
    "duration": 197,
    "start_time": "2023-11-16T08:22:02.603Z"
   },
   {
    "duration": 115,
    "start_time": "2023-11-16T08:22:02.802Z"
   },
   {
    "duration": 5,
    "start_time": "2023-11-16T08:22:02.919Z"
   },
   {
    "duration": 6,
    "start_time": "2023-11-16T08:22:03.000Z"
   },
   {
    "duration": 251,
    "start_time": "2023-11-16T08:22:03.012Z"
   },
   {
    "duration": 35,
    "start_time": "2023-11-16T08:22:03.264Z"
   },
   {
    "duration": 119,
    "start_time": "2023-11-16T08:22:03.301Z"
   },
   {
    "duration": 18,
    "start_time": "2023-11-16T08:23:22.927Z"
   },
   {
    "duration": 3752,
    "start_time": "2023-11-16T08:25:09.609Z"
   },
   {
    "duration": 11,
    "start_time": "2023-11-16T08:25:18.406Z"
   },
   {
    "duration": 13,
    "start_time": "2023-11-16T08:27:15.549Z"
   },
   {
    "duration": 20,
    "start_time": "2023-11-16T08:27:24.786Z"
   },
   {
    "duration": 6112,
    "start_time": "2023-11-16T08:27:56.306Z"
   },
   {
    "duration": 19,
    "start_time": "2023-11-16T08:28:23.046Z"
   },
   {
    "duration": 4497,
    "start_time": "2023-11-16T08:28:58.224Z"
   },
   {
    "duration": 1490,
    "start_time": "2023-11-16T08:29:27.907Z"
   },
   {
    "duration": 1497,
    "start_time": "2023-11-16T08:30:38.680Z"
   },
   {
    "duration": 1544,
    "start_time": "2023-11-16T08:31:06.625Z"
   },
   {
    "duration": 1527,
    "start_time": "2023-11-16T08:31:19.473Z"
   },
   {
    "duration": 19,
    "start_time": "2023-11-16T08:31:35.674Z"
   },
   {
    "duration": 1498,
    "start_time": "2023-11-16T08:31:37.037Z"
   },
   {
    "duration": 1505,
    "start_time": "2023-11-16T08:32:18.704Z"
   },
   {
    "duration": 1491,
    "start_time": "2023-11-16T08:32:32.564Z"
   },
   {
    "duration": 1460,
    "start_time": "2023-11-16T08:32:42.146Z"
   },
   {
    "duration": 1463,
    "start_time": "2023-11-16T08:32:53.744Z"
   },
   {
    "duration": 1414,
    "start_time": "2023-11-16T08:33:06.466Z"
   },
   {
    "duration": 12,
    "start_time": "2023-11-16T08:33:07.881Z"
   },
   {
    "duration": 184,
    "start_time": "2023-11-16T08:33:07.895Z"
   },
   {
    "duration": 148,
    "start_time": "2023-11-16T08:33:08.080Z"
   },
   {
    "duration": 154,
    "start_time": "2023-11-16T08:33:08.230Z"
   },
   {
    "duration": 74,
    "start_time": "2023-11-16T08:33:08.385Z"
   },
   {
    "duration": 77,
    "start_time": "2023-11-16T08:33:08.461Z"
   },
   {
    "duration": 78,
    "start_time": "2023-11-16T08:33:08.540Z"
   },
   {
    "duration": 1024,
    "start_time": "2023-11-16T08:33:08.620Z"
   },
   {
    "duration": 1220,
    "start_time": "2023-11-16T08:33:09.646Z"
   },
   {
    "duration": 959,
    "start_time": "2023-11-16T08:33:10.868Z"
   },
   {
    "duration": 1250,
    "start_time": "2023-11-16T08:33:11.829Z"
   },
   {
    "duration": 1009,
    "start_time": "2023-11-16T08:33:13.081Z"
   },
   {
    "duration": 1108,
    "start_time": "2023-11-16T08:33:14.098Z"
   },
   {
    "duration": 456,
    "start_time": "2023-11-16T08:33:15.208Z"
   },
   {
    "duration": 402,
    "start_time": "2023-11-16T08:33:15.666Z"
   },
   {
    "duration": 509,
    "start_time": "2023-11-16T08:33:16.070Z"
   },
   {
    "duration": 34,
    "start_time": "2023-11-16T08:33:16.581Z"
   },
   {
    "duration": 192,
    "start_time": "2023-11-16T08:33:16.618Z"
   },
   {
    "duration": 194,
    "start_time": "2023-11-16T08:33:16.812Z"
   },
   {
    "duration": 4,
    "start_time": "2023-11-16T08:33:17.008Z"
   },
   {
    "duration": 94,
    "start_time": "2023-11-16T08:33:17.013Z"
   },
   {
    "duration": 254,
    "start_time": "2023-11-16T08:33:17.108Z"
   },
   {
    "duration": 19,
    "start_time": "2023-11-16T08:33:17.364Z"
   },
   {
    "duration": 1552,
    "start_time": "2023-11-16T08:33:17.385Z"
   },
   {
    "duration": 1590,
    "start_time": "2023-11-16T08:33:37.306Z"
   },
   {
    "duration": 4533,
    "start_time": "2023-11-16T08:34:20.227Z"
   },
   {
    "duration": 1608,
    "start_time": "2023-11-16T08:34:42.386Z"
   },
   {
    "duration": 1516,
    "start_time": "2023-11-16T08:36:04.146Z"
   },
   {
    "duration": 1347,
    "start_time": "2023-11-16T08:37:50.146Z"
   },
   {
    "duration": 1349,
    "start_time": "2023-11-16T08:39:33.367Z"
   },
   {
    "duration": 1348,
    "start_time": "2023-11-16T08:40:11.546Z"
   },
   {
    "duration": 4014,
    "start_time": "2023-11-16T08:41:13.567Z"
   },
   {
    "duration": 1403,
    "start_time": "2023-11-16T08:45:20.621Z"
   },
   {
    "duration": 1373,
    "start_time": "2023-11-16T08:45:28.101Z"
   },
   {
    "duration": 3954,
    "start_time": "2023-11-16T08:45:40.420Z"
   },
   {
    "duration": 4076,
    "start_time": "2023-11-16T08:45:56.581Z"
   },
   {
    "duration": 1306,
    "start_time": "2023-11-16T08:46:31.781Z"
   },
   {
    "duration": 1325,
    "start_time": "2023-11-16T08:46:52.520Z"
   },
   {
    "duration": 3989,
    "start_time": "2023-11-16T08:47:08.201Z"
   },
   {
    "duration": 4009,
    "start_time": "2023-11-16T08:47:33.660Z"
   },
   {
    "duration": 3939,
    "start_time": "2023-11-16T08:48:09.270Z"
   },
   {
    "duration": 3902,
    "start_time": "2023-11-16T08:48:19.701Z"
   },
   {
    "duration": 4,
    "start_time": "2023-11-16T08:49:16.181Z"
   },
   {
    "duration": 3954,
    "start_time": "2023-11-16T08:49:28.481Z"
   },
   {
    "duration": 3982,
    "start_time": "2023-11-16T08:50:37.141Z"
   },
   {
    "duration": 3860,
    "start_time": "2023-11-16T08:50:51.421Z"
   },
   {
    "duration": 4106,
    "start_time": "2023-11-16T08:59:13.762Z"
   },
   {
    "duration": 17,
    "start_time": "2023-11-16T09:01:18.273Z"
   },
   {
    "duration": 4116,
    "start_time": "2023-11-16T09:01:51.361Z"
   },
   {
    "duration": 20,
    "start_time": "2023-11-16T09:01:55.479Z"
   },
   {
    "duration": 13,
    "start_time": "2023-11-16T09:02:43.601Z"
   },
   {
    "duration": 12,
    "start_time": "2023-11-16T09:02:57.801Z"
   },
   {
    "duration": 4062,
    "start_time": "2023-11-16T09:03:14.090Z"
   },
   {
    "duration": 13,
    "start_time": "2023-11-16T09:03:18.154Z"
   },
   {
    "duration": 14,
    "start_time": "2023-11-16T09:03:30.421Z"
   },
   {
    "duration": 13,
    "start_time": "2023-11-16T09:04:33.561Z"
   },
   {
    "duration": 149,
    "start_time": "2023-11-16T09:05:09.321Z"
   },
   {
    "duration": 161,
    "start_time": "2023-11-16T09:07:21.101Z"
   },
   {
    "duration": 402,
    "start_time": "2023-11-16T09:07:39.641Z"
   },
   {
    "duration": 160,
    "start_time": "2023-11-16T09:08:25.401Z"
   },
   {
    "duration": 4225,
    "start_time": "2023-11-16T09:15:09.670Z"
   },
   {
    "duration": 4172,
    "start_time": "2023-11-16T09:15:27.259Z"
   },
   {
    "duration": 3992,
    "start_time": "2023-11-16T09:16:25.401Z"
   },
   {
    "duration": 1360,
    "start_time": "2023-11-16T09:17:32.420Z"
   },
   {
    "duration": 4076,
    "start_time": "2023-11-16T09:17:55.840Z"
   },
   {
    "duration": 4008,
    "start_time": "2023-11-16T09:19:13.060Z"
   },
   {
    "duration": 1800,
    "start_time": "2023-11-16T16:55:10.105Z"
   },
   {
    "duration": 13,
    "start_time": "2023-11-16T16:55:11.908Z"
   },
   {
    "duration": 616,
    "start_time": "2023-11-16T16:55:11.930Z"
   },
   {
    "duration": 603,
    "start_time": "2023-11-16T16:55:12.548Z"
   },
   {
    "duration": 569,
    "start_time": "2023-11-16T16:55:13.155Z"
   },
   {
    "duration": 84,
    "start_time": "2023-11-16T16:55:13.726Z"
   },
   {
    "duration": 98,
    "start_time": "2023-11-16T16:55:13.812Z"
   },
   {
    "duration": 92,
    "start_time": "2023-11-16T16:55:13.912Z"
   },
   {
    "duration": 1246,
    "start_time": "2023-11-16T16:55:14.007Z"
   },
   {
    "duration": 1433,
    "start_time": "2023-11-16T16:55:15.255Z"
   },
   {
    "duration": 1219,
    "start_time": "2023-11-16T16:55:16.691Z"
   },
   {
    "duration": 1432,
    "start_time": "2023-11-16T16:55:17.911Z"
   },
   {
    "duration": 1207,
    "start_time": "2023-11-16T16:55:19.345Z"
   },
   {
    "duration": 1332,
    "start_time": "2023-11-16T16:55:20.555Z"
   },
   {
    "duration": 596,
    "start_time": "2023-11-16T16:55:21.890Z"
   },
   {
    "duration": 686,
    "start_time": "2023-11-16T16:55:22.488Z"
   },
   {
    "duration": 625,
    "start_time": "2023-11-16T16:55:23.176Z"
   },
   {
    "duration": 136,
    "start_time": "2023-11-16T16:55:23.803Z"
   },
   {
    "duration": 190,
    "start_time": "2023-11-16T16:55:23.943Z"
   },
   {
    "duration": 198,
    "start_time": "2023-11-16T16:55:24.135Z"
   },
   {
    "duration": 92,
    "start_time": "2023-11-16T16:55:24.340Z"
   },
   {
    "duration": 19,
    "start_time": "2023-11-16T16:55:24.434Z"
   },
   {
    "duration": 212,
    "start_time": "2023-11-16T16:55:24.456Z"
   },
   {
    "duration": 27,
    "start_time": "2023-11-16T16:55:24.671Z"
   },
   {
    "duration": 4519,
    "start_time": "2023-11-16T16:55:24.700Z"
   },
   {
    "duration": 211,
    "start_time": "2023-11-16T16:55:29.220Z"
   },
   {
    "duration": 1644,
    "start_time": "2023-11-16T16:57:52.738Z"
   },
   {
    "duration": 21,
    "start_time": "2023-11-16T16:57:54.906Z"
   },
   {
    "duration": 230,
    "start_time": "2023-11-16T16:57:56.564Z"
   },
   {
    "duration": 181,
    "start_time": "2023-11-16T16:57:58.945Z"
   },
   {
    "duration": 185,
    "start_time": "2023-11-16T16:58:02.036Z"
   },
   {
    "duration": 85,
    "start_time": "2023-11-16T16:58:08.021Z"
   },
   {
    "duration": 73,
    "start_time": "2023-11-16T16:58:12.270Z"
   },
   {
    "duration": 83,
    "start_time": "2023-11-16T16:58:14.742Z"
   },
   {
    "duration": 1177,
    "start_time": "2023-11-16T16:58:21.937Z"
   },
   {
    "duration": 1338,
    "start_time": "2023-11-16T16:58:31.903Z"
   },
   {
    "duration": 1169,
    "start_time": "2023-11-16T16:58:38.767Z"
   },
   {
    "duration": 1413,
    "start_time": "2023-11-16T16:58:53.560Z"
   },
   {
    "duration": 1250,
    "start_time": "2023-11-16T16:59:02.426Z"
   },
   {
    "duration": 1350,
    "start_time": "2023-11-16T16:59:11.855Z"
   },
   {
    "duration": 437,
    "start_time": "2023-11-16T16:59:15.596Z"
   },
   {
    "duration": 431,
    "start_time": "2023-11-16T16:59:18.009Z"
   },
   {
    "duration": 582,
    "start_time": "2023-11-16T16:59:19.677Z"
   },
   {
    "duration": 40,
    "start_time": "2023-11-16T16:59:24.007Z"
   },
   {
    "duration": 98,
    "start_time": "2023-11-16T16:59:26.034Z"
   },
   {
    "duration": 49,
    "start_time": "2023-11-16T16:59:27.905Z"
   },
   {
    "duration": 4,
    "start_time": "2023-11-16T16:59:45.604Z"
   },
   {
    "duration": 5,
    "start_time": "2023-11-16T16:59:49.163Z"
   },
   {
    "duration": 184,
    "start_time": "2023-11-16T16:59:51.616Z"
   },
   {
    "duration": 31,
    "start_time": "2023-11-16T17:00:06.613Z"
   },
   {
    "duration": 4416,
    "start_time": "2023-11-16T17:00:09.966Z"
   },
   {
    "duration": 197,
    "start_time": "2023-11-16T17:00:14.384Z"
   },
   {
    "duration": 1827,
    "start_time": "2023-11-16T17:01:05.189Z"
   },
   {
    "duration": 15,
    "start_time": "2023-11-16T17:01:07.019Z"
   },
   {
    "duration": 265,
    "start_time": "2023-11-16T17:01:07.036Z"
   },
   {
    "duration": 223,
    "start_time": "2023-11-16T17:01:07.304Z"
   },
   {
    "duration": 184,
    "start_time": "2023-11-16T17:01:07.532Z"
   },
   {
    "duration": 125,
    "start_time": "2023-11-16T17:01:07.719Z"
   },
   {
    "duration": 132,
    "start_time": "2023-11-16T17:01:07.846Z"
   },
   {
    "duration": 107,
    "start_time": "2023-11-16T17:01:07.980Z"
   },
   {
    "duration": 1255,
    "start_time": "2023-11-16T17:01:08.090Z"
   },
   {
    "duration": 1448,
    "start_time": "2023-11-16T17:01:09.348Z"
   },
   {
    "duration": 1210,
    "start_time": "2023-11-16T17:01:10.798Z"
   },
   {
    "duration": 1397,
    "start_time": "2023-11-16T17:01:12.010Z"
   },
   {
    "duration": 1180,
    "start_time": "2023-11-16T17:01:13.409Z"
   },
   {
    "duration": 1333,
    "start_time": "2023-11-16T17:01:14.592Z"
   },
   {
    "duration": 498,
    "start_time": "2023-11-16T17:01:15.927Z"
   },
   {
    "duration": 501,
    "start_time": "2023-11-16T17:01:16.430Z"
   },
   {
    "duration": 579,
    "start_time": "2023-11-16T17:01:16.934Z"
   },
   {
    "duration": 127,
    "start_time": "2023-11-16T17:01:17.516Z"
   },
   {
    "duration": 184,
    "start_time": "2023-11-16T17:01:17.653Z"
   },
   {
    "duration": 132,
    "start_time": "2023-11-16T17:01:17.843Z"
   },
   {
    "duration": 6,
    "start_time": "2023-11-16T17:01:18.033Z"
   },
   {
    "duration": 105,
    "start_time": "2023-11-16T17:01:18.044Z"
   },
   {
    "duration": 224,
    "start_time": "2023-11-16T17:01:18.151Z"
   },
   {
    "duration": 31,
    "start_time": "2023-11-16T17:01:18.377Z"
   },
   {
    "duration": 4958,
    "start_time": "2023-11-16T17:01:18.410Z"
   },
   {
    "duration": 229,
    "start_time": "2023-11-16T17:01:23.370Z"
   },
   {
    "duration": 1687,
    "start_time": "2023-11-16T17:02:42.861Z"
   },
   {
    "duration": 21,
    "start_time": "2023-11-16T17:02:44.550Z"
   },
   {
    "duration": 246,
    "start_time": "2023-11-16T17:02:44.574Z"
   },
   {
    "duration": 198,
    "start_time": "2023-11-16T17:02:44.823Z"
   },
   {
    "duration": 238,
    "start_time": "2023-11-16T17:02:45.024Z"
   },
   {
    "duration": 112,
    "start_time": "2023-11-16T17:02:45.264Z"
   },
   {
    "duration": 126,
    "start_time": "2023-11-16T17:02:45.379Z"
   },
   {
    "duration": 135,
    "start_time": "2023-11-16T17:02:45.508Z"
   },
   {
    "duration": 1233,
    "start_time": "2023-11-16T17:02:45.645Z"
   },
   {
    "duration": 1475,
    "start_time": "2023-11-16T17:02:46.881Z"
   },
   {
    "duration": 1134,
    "start_time": "2023-11-16T17:02:48.359Z"
   },
   {
    "duration": 1390,
    "start_time": "2023-11-16T17:02:49.495Z"
   },
   {
    "duration": 1222,
    "start_time": "2023-11-16T17:02:50.887Z"
   },
   {
    "duration": 1323,
    "start_time": "2023-11-16T17:02:52.112Z"
   },
   {
    "duration": 518,
    "start_time": "2023-11-16T17:02:53.438Z"
   },
   {
    "duration": 452,
    "start_time": "2023-11-16T17:02:53.959Z"
   },
   {
    "duration": 633,
    "start_time": "2023-11-16T17:02:54.413Z"
   },
   {
    "duration": 87,
    "start_time": "2023-11-16T17:02:55.049Z"
   },
   {
    "duration": 196,
    "start_time": "2023-11-16T17:02:55.140Z"
   },
   {
    "duration": 201,
    "start_time": "2023-11-16T17:02:55.338Z"
   },
   {
    "duration": 7,
    "start_time": "2023-11-16T17:02:55.541Z"
   },
   {
    "duration": 84,
    "start_time": "2023-11-16T17:02:55.552Z"
   },
   {
    "duration": 281,
    "start_time": "2023-11-16T17:02:55.645Z"
   },
   {
    "duration": 24,
    "start_time": "2023-11-16T17:02:55.931Z"
   },
   {
    "duration": 4863,
    "start_time": "2023-11-16T17:02:55.958Z"
   },
   {
    "duration": 198,
    "start_time": "2023-11-16T17:03:00.823Z"
   },
   {
    "duration": 1472,
    "start_time": "2023-11-16T22:29:20.882Z"
   },
   {
    "duration": 11,
    "start_time": "2023-11-16T22:29:22.356Z"
   },
   {
    "duration": 393,
    "start_time": "2023-11-16T22:29:23.646Z"
   },
   {
    "duration": 200,
    "start_time": "2023-11-16T22:29:24.570Z"
   },
   {
    "duration": 213,
    "start_time": "2023-11-16T22:29:25.206Z"
   },
   {
    "duration": 60,
    "start_time": "2023-11-16T22:29:26.045Z"
   },
   {
    "duration": 55,
    "start_time": "2023-11-16T22:29:26.731Z"
   },
   {
    "duration": 56,
    "start_time": "2023-11-16T22:29:27.637Z"
   },
   {
    "duration": 882,
    "start_time": "2023-11-16T22:29:29.202Z"
   },
   {
    "duration": 1112,
    "start_time": "2023-11-16T22:29:31.457Z"
   },
   {
    "duration": 871,
    "start_time": "2023-11-16T22:29:33.541Z"
   },
   {
    "duration": 1098,
    "start_time": "2023-11-16T22:29:35.661Z"
   },
   {
    "duration": 902,
    "start_time": "2023-11-16T22:29:37.453Z"
   },
   {
    "duration": 1033,
    "start_time": "2023-11-16T22:29:39.287Z"
   },
   {
    "duration": 473,
    "start_time": "2023-11-16T22:29:41.670Z"
   },
   {
    "duration": 395,
    "start_time": "2023-11-16T22:29:43.160Z"
   },
   {
    "duration": 456,
    "start_time": "2023-11-16T22:29:44.545Z"
   },
   {
    "duration": 26,
    "start_time": "2023-11-16T22:34:05.772Z"
   },
   {
    "duration": 26,
    "start_time": "2023-11-16T22:34:08.917Z"
   },
   {
    "duration": 23,
    "start_time": "2023-11-16T22:34:09.651Z"
   },
   {
    "duration": 2,
    "start_time": "2023-11-16T22:34:16.794Z"
   },
   {
    "duration": 102,
    "start_time": "2023-11-16T22:36:28.834Z"
   },
   {
    "duration": 18,
    "start_time": "2023-11-16T22:36:39.055Z"
   },
   {
    "duration": 2,
    "start_time": "2023-11-16T22:36:46.332Z"
   },
   {
    "duration": 3,
    "start_time": "2023-11-16T22:36:47.246Z"
   },
   {
    "duration": 134,
    "start_time": "2023-11-16T22:36:47.655Z"
   },
   {
    "duration": 18,
    "start_time": "2023-11-16T22:36:49.053Z"
   },
   {
    "duration": 3066,
    "start_time": "2023-11-16T22:36:50.542Z"
   },
   {
    "duration": 3087,
    "start_time": "2023-11-16T22:42:07.228Z"
   },
   {
    "duration": 132,
    "start_time": "2023-11-16T22:42:24.461Z"
   },
   {
    "duration": 4,
    "start_time": "2023-11-16T22:48:47.405Z"
   },
   {
    "duration": 8,
    "start_time": "2023-11-16T22:48:49.087Z"
   },
   {
    "duration": 143,
    "start_time": "2023-11-16T22:48:55.985Z"
   },
   {
    "duration": 132,
    "start_time": "2023-11-16T22:48:57.950Z"
   },
   {
    "duration": 136,
    "start_time": "2023-11-16T22:48:59.261Z"
   },
   {
    "duration": 60,
    "start_time": "2023-11-16T22:49:00.801Z"
   },
   {
    "duration": 51,
    "start_time": "2023-11-16T22:49:02.058Z"
   },
   {
    "duration": 56,
    "start_time": "2023-11-16T22:49:03.572Z"
   },
   {
    "duration": 877,
    "start_time": "2023-11-16T22:49:08.257Z"
   },
   {
    "duration": 993,
    "start_time": "2023-11-16T22:49:10.322Z"
   },
   {
    "duration": 918,
    "start_time": "2023-11-16T22:49:11.598Z"
   },
   {
    "duration": 1003,
    "start_time": "2023-11-16T22:49:13.655Z"
   },
   {
    "duration": 925,
    "start_time": "2023-11-16T22:49:15.625Z"
   },
   {
    "duration": 1056,
    "start_time": "2023-11-16T22:49:18.288Z"
   },
   {
    "duration": 387,
    "start_time": "2023-11-16T22:49:21.054Z"
   },
   {
    "duration": 375,
    "start_time": "2023-11-16T22:49:22.720Z"
   },
   {
    "duration": 358,
    "start_time": "2023-11-16T22:49:24.534Z"
   },
   {
    "duration": 58,
    "start_time": "2023-11-16T22:49:32.693Z"
   },
   {
    "duration": 35,
    "start_time": "2023-11-16T22:49:33.538Z"
   },
   {
    "duration": 25,
    "start_time": "2023-11-16T22:49:34.325Z"
   },
   {
    "duration": 3,
    "start_time": "2023-11-16T22:49:36.558Z"
   },
   {
    "duration": 4,
    "start_time": "2023-11-16T22:49:46.599Z"
   },
   {
    "duration": 131,
    "start_time": "2023-11-16T22:49:47.065Z"
   },
   {
    "duration": 18,
    "start_time": "2023-11-16T22:49:49.957Z"
   },
   {
    "duration": 3072,
    "start_time": "2023-11-16T22:49:51.744Z"
   },
   {
    "duration": 127,
    "start_time": "2023-11-16T22:50:25.283Z"
   },
   {
    "duration": 1252,
    "start_time": "2023-11-16T22:53:16.992Z"
   },
   {
    "duration": 11,
    "start_time": "2023-11-16T22:53:18.246Z"
   },
   {
    "duration": 168,
    "start_time": "2023-11-16T22:53:18.258Z"
   },
   {
    "duration": 133,
    "start_time": "2023-11-16T22:53:18.427Z"
   },
   {
    "duration": 138,
    "start_time": "2023-11-16T22:53:18.562Z"
   },
   {
    "duration": 71,
    "start_time": "2023-11-16T22:53:18.702Z"
   },
   {
    "duration": 55,
    "start_time": "2023-11-16T22:53:18.774Z"
   },
   {
    "duration": 80,
    "start_time": "2023-11-16T22:53:18.830Z"
   },
   {
    "duration": 970,
    "start_time": "2023-11-16T22:53:18.912Z"
   },
   {
    "duration": 1107,
    "start_time": "2023-11-16T22:53:19.883Z"
   },
   {
    "duration": 872,
    "start_time": "2023-11-16T22:53:20.991Z"
   },
   {
    "duration": 1108,
    "start_time": "2023-11-16T22:53:21.864Z"
   },
   {
    "duration": 885,
    "start_time": "2023-11-16T22:53:22.974Z"
   },
   {
    "duration": 1058,
    "start_time": "2023-11-16T22:53:23.862Z"
   },
   {
    "duration": 392,
    "start_time": "2023-11-16T22:53:24.921Z"
   },
   {
    "duration": 367,
    "start_time": "2023-11-16T22:53:25.314Z"
   },
   {
    "duration": 490,
    "start_time": "2023-11-16T22:53:25.683Z"
   },
   {
    "duration": 79,
    "start_time": "2023-11-16T22:53:26.175Z"
   },
   {
    "duration": 115,
    "start_time": "2023-11-16T22:53:26.256Z"
   },
   {
    "duration": 112,
    "start_time": "2023-11-16T22:53:26.451Z"
   },
   {
    "duration": 3,
    "start_time": "2023-11-16T22:53:26.565Z"
   },
   {
    "duration": 85,
    "start_time": "2023-11-16T22:53:26.570Z"
   },
   {
    "duration": 231,
    "start_time": "2023-11-16T22:53:26.657Z"
   },
   {
    "duration": 18,
    "start_time": "2023-11-16T22:53:26.889Z"
   },
   {
    "duration": 3544,
    "start_time": "2023-11-16T22:53:26.909Z"
   },
   {
    "duration": 238,
    "start_time": "2023-11-16T22:53:30.454Z"
   },
   {
    "duration": 1293,
    "start_time": "2023-11-16T22:54:04.548Z"
   },
   {
    "duration": 10,
    "start_time": "2023-11-16T22:54:05.843Z"
   },
   {
    "duration": 182,
    "start_time": "2023-11-16T22:54:05.855Z"
   },
   {
    "duration": 130,
    "start_time": "2023-11-16T22:54:06.039Z"
   },
   {
    "duration": 137,
    "start_time": "2023-11-16T22:54:06.171Z"
   },
   {
    "duration": 63,
    "start_time": "2023-11-16T22:54:06.310Z"
   },
   {
    "duration": 69,
    "start_time": "2023-11-16T22:54:06.375Z"
   },
   {
    "duration": 55,
    "start_time": "2023-11-16T22:54:06.446Z"
   },
   {
    "duration": 916,
    "start_time": "2023-11-16T22:54:06.502Z"
   },
   {
    "duration": 1149,
    "start_time": "2023-11-16T22:54:07.420Z"
   },
   {
    "duration": 863,
    "start_time": "2023-11-16T22:54:08.570Z"
   },
   {
    "duration": 1130,
    "start_time": "2023-11-16T22:54:09.435Z"
   },
   {
    "duration": 915,
    "start_time": "2023-11-16T22:54:10.567Z"
   },
   {
    "duration": 1682,
    "start_time": "2023-11-16T22:54:11.483Z"
   },
   {
    "duration": 416,
    "start_time": "2023-11-16T22:54:13.167Z"
   },
   {
    "duration": 392,
    "start_time": "2023-11-16T22:54:13.585Z"
   },
   {
    "duration": 495,
    "start_time": "2023-11-16T22:54:13.979Z"
   },
   {
    "duration": 26,
    "start_time": "2023-11-16T22:54:14.476Z"
   },
   {
    "duration": 116,
    "start_time": "2023-11-16T22:54:14.552Z"
   },
   {
    "duration": 191,
    "start_time": "2023-11-16T22:54:14.670Z"
   },
   {
    "duration": 3,
    "start_time": "2023-11-16T22:54:14.863Z"
   },
   {
    "duration": 4,
    "start_time": "2023-11-16T22:54:14.953Z"
   },
   {
    "duration": 323,
    "start_time": "2023-11-16T22:54:14.959Z"
   },
   {
    "duration": 18,
    "start_time": "2023-11-16T22:54:15.283Z"
   },
   {
    "duration": 3059,
    "start_time": "2023-11-16T22:54:15.303Z"
   },
   {
    "duration": 140,
    "start_time": "2023-11-16T22:54:18.363Z"
   }
  ],
  "kernelspec": {
   "display_name": "Python 3 (ipykernel)",
   "language": "python",
   "name": "python3"
  },
  "language_info": {
   "codemirror_mode": {
    "name": "ipython",
    "version": 3
   },
   "file_extension": ".py",
   "mimetype": "text/x-python",
   "name": "python",
   "nbconvert_exporter": "python",
   "pygments_lexer": "ipython3",
   "version": "3.10.9"
  },
  "toc": {
   "base_numbering": 1,
   "nav_menu": {},
   "number_sections": true,
   "sideBar": true,
   "skip_h1_title": true,
   "title_cell": "Table of Contents",
   "title_sidebar": "Contents",
   "toc_cell": false,
   "toc_position": {},
   "toc_section_display": true,
   "toc_window_display": true
  }
 },
 "nbformat": 4,
 "nbformat_minor": 2
}
